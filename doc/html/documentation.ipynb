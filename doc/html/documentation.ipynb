{
 "cells": [
  {
   "cell_type": "markdown",
   "metadata": {},
   "source": [
    "# Reduce\n",
    "\n",
    "### Nick Athanasiou\n",
    "\n",
    "Copyright © 2016 Nick Athanasiou\n",
    "\n",
    "Distributed under the Apache License Version 2.0 (See accompanying file LICENSE or [here](http://www.apache.org/licenses/LICENSE-2.0.txt))"
   ]
  },
  {
   "cell_type": "markdown",
   "metadata": {},
   "source": [
    "## Table of contents\n",
    "\n",
    "1. [**Introduction**](#introduction)\n",
    "    - The functional genome of reduce\n",
    "    - C++ fold expressions\n",
    "        - Syntax\n",
    "        - Identity elements\n",
    "        - Examples\n",
    "2. [**Rationale**](#rationale)\n",
    "    - What\n",
    "    - How\n",
    "3. [**User Manual**](#manual)\n",
    "    - Common case folding \n",
    "    - Respecting the algebra of the involved types\n",
    "    - Single operant folding\n",
    "    - Defining identity elements\n",
    "4. [**Examples**](#examples)\n"
   ]
  },
  {
   "cell_type": "markdown",
   "metadata": {},
   "source": [
    "<a id='introduction'></a>\n",
    "## 1. Introduction\n",
    "\n",
    "`Reduce` is a header only library that provides fold expressions for **arbitrary callables**. Properties of the resulting expressions include: \n",
    "\n",
    "- Compile time evaluation (if the callables involved have such an ability)\n",
    "- Lazy evaluation (we can step through intermediate computations in a generator fashion)\n",
    "- Stateful callables"
   ]
  },
  {
   "cell_type": "markdown",
   "metadata": {},
   "source": [
    "### 1.1 The functional genome of reduce\n",
    "\n",
    "The concept of _reducing_ is central to the \"_programming experience_\" in functional languages. A formal definition would go like [this](https://en.wikipedia.org/wiki/Fold_%28higher-order_function%29):\n",
    "\n",
    "> In functional programming, **fold** – also known variously as **reduce, accumulate, aggregate, compress**, or **inject** – refers to a family of **higher-order functions** that analyze a recursive data structure and through use of a given combining operation, recombine the results of recursively processing its constituent parts, building up a return value.\n",
    "\n",
    "To understand this definition, here's some info on the terminology: \n",
    "\n",
    "- **higher order function**: functions that can take functions as parameters and/or return functions as return values\n",
    "- **recursive data structure**: also known as recursively-defined, it's a data type for values that may contain other values of the same type. For an example a list in `Haskell` is (either an empty list or) a _head_ element of some type followed by a _tail_ element that's a list of the same type. \n",
    "- **combining operation**: we'll be calling it a **reducing function** or **reducers**; it's any function which takes a partial result and a new piece of information to produce a new result.\n",
    "- **accumulator**: this is included in the definition as _partial result_; essentially it \"contains\" the type of the value we reduce our recursive data structure to. \n",
    "\n",
    "So for example if we were to `reduce` the list `[1, 2, 3, 4, 5]` using the operator `(+)` we'd get the sum of the list i.e. `15`. Depending on where we \"_fold from_\" we get **left** or **right** folds. Let's look at some formal definitions for the types of these operations: \n",
    "\n",
    "```haskell\n",
    "-- type of the left fold operation\n",
    "foldl :: (b -> a -> b) -> b -> [a] -> b\n",
    "```\n",
    "\n",
    "The above informs us that `foldl` is a (higher order) function that accepts:\n",
    "\n",
    "1. a function `(b -> a -> b)` i.e. a function that takes an accumulator of type `b` and a value of type `a` and returns a partial result of type `b`\n",
    "2. an accumulator of type `b`\n",
    "3. a list of `a`\n",
    "\n",
    "and returns a reduced value of type `b`. Let's make a visualization of the left fold operation for this expression\n",
    "\n",
    "```haskell\n",
    "-- add numbers 1 to 5 with a zero accumulator\n",
    "foldl (+) 0 [1..5]\n",
    "```"
   ]
  },
  {
   "cell_type": "code",
   "execution_count": 6,
   "metadata": {
    "collapsed": false
   },
   "outputs": [
    {
     "data": {
      "text/plain": [
       "['(((((0+1)+2)+3)+4)+5)']"
      ]
     },
     "execution_count": 6,
     "metadata": {},
     "output_type": "execute_result"
    }
   ],
   "source": [
    "%%ghc\n",
    "main = do\n",
    "    putStrLn $ foldl (\\x y -> concat [\"(\",x,\"+\",y,\")\"]) \"0\" (map show [1..5])"
   ]
  },
  {
   "cell_type": "markdown",
   "metadata": {},
   "source": [
    "Symmetric to the above, is the type definition for the right fold operation: \n",
    "\n",
    "```haskell\n",
    "foldr :: (a -> b -> b) -> b -> [a] -> b\n",
    "```\n",
    "\n",
    "Notice however the type of the **reducer**. We say that the **accumulator** `b` \"consumes\" the operants from the right, so **the order of parameters changes** (current value on the left, accumulator on the right). This is important when we define custom accumulators that may not be commutative, result-wise or type-wise. Visualizing the expression\n",
    "\n",
    "```haskell\n",
    "foldr (+) 0 [1..5]\n",
    "```\n",
    "\n",
    "we get:"
   ]
  },
  {
   "cell_type": "code",
   "execution_count": 3,
   "metadata": {
    "collapsed": false
   },
   "outputs": [
    {
     "data": {
      "text/plain": [
       "['(1+(2+(3+(4+(5+0)))))']"
      ]
     },
     "execution_count": 3,
     "metadata": {},
     "output_type": "execute_result"
    }
   ],
   "source": [
    "%%ghc\n",
    "main = do\n",
    "    putStrLn $ foldr (\\x y -> concat [\"(\",x,\"+\",y,\")\"]) \"0\" (map show [1..5])"
   ]
  },
  {
   "cell_type": "markdown",
   "metadata": {},
   "source": [
    "### 1.2 C++ fold expressions\n",
    "\n",
    "Up until the \"1z\" version, C++ expressed the reduction logic through the standard library function [`std::accumulate`](http://en.cppreference.com/w/cpp/algorithm/accumulate). Common knowledge indicates that `accumulate` was highly underestimated and it's use decayed to the mandane task of summing, with a choice for a custom binary operator, the contents of a container. While this is just a fragment of its \"abilities\", the truth is that `accumulate` cannot express folding in compile time contexts, the pure expression logic underlying reductions and handle variadicness of input. \n",
    "\n",
    "C++1z ammends this by adding support for fold expressions. According to the related [proposal](http://www.open-std.org/jtc1/sc22/wg21/docs/papers/2014/n4295.html): \n",
    "\n",
    "> A fold expression performs a fold of a template parameter pack ([temp.variadic]) over a binary operator."
   ]
  },
  {
   "cell_type": "markdown",
   "metadata": {},
   "source": [
    "- ### Syntax\n",
    "\n",
    "Let `\"e\"` $= e_1, e_2, \\dotso, e_n$ be an expression that contains an unexpanded parameter pack and \"<big>⊗</big>\" the fold operator, then fold expressions have the form:\n",
    "\n",
    "- Unary **left folds**\n",
    "\n",
    "    # $(\\dotso\\; \\otimes\\; e)$ \n",
    "\n",
    "    which expands to $ (((e_1 \\otimes e_2) \\dotso ) \\otimes e_n)$ \n",
    "    \n",
    "---\n",
    "- Unary **right folds **\n",
    "\n",
    "    # $(e\\; \\otimes\\; \\dotso)$\n",
    "    \n",
    "    which expands to $(e_1 \\otimes ( \\dotso (e_{n-1} \\otimes e_n)))$\n",
    "---\n",
    "If we add a **non pack argument** on the _dots' side_ of each of the above we get their binary versions that have identical expansion behavior: \n",
    "\n",
    "- Binary **left folds**\n",
    "\n",
    "    # $(a \\otimes\\; \\dotso\\; \\otimes\\; e)$ \n",
    "\n",
    "    which expands to $ (((a \\otimes e_1) \\dotso ) \\otimes e_n)$ \n",
    "    \n",
    "---\n",
    "- Binary **right folds **\n",
    "\n",
    "    # $(e\\; \\otimes\\; \\dotso\\; \\otimes\\; a)$\n",
    "    \n",
    "    which expands to $(e_1 \\otimes ( \\dotso (e_n \\otimes a)))$\n",
    "---\n",
    "\n",
    "The \"<big>⊗</big>\" operator can be one of:\n",
    "\n",
    "```cpp\n",
    "+  -  *  /  %  ^  &  |  ~  =  <  >  <<  >>\n",
    "+=  -=  *=  /=  %=  ^=  &=  |=  <<=  >>=\n",
    "==  !=  <=  >=  &&  ||  ,  .*  ->*\n",
    "```"
   ]
  },
  {
   "cell_type": "markdown",
   "metadata": {},
   "source": [
    "- ### Identity elements\n",
    "\n",
    "The fold of an empty parameter pack evaluates to a specific value. The choice of value depends on the operator. The set of operators and their empty expansions are in the table below.\n",
    "\n",
    "| Operator | Value when parameter pack is empty |\n",
    "|----------|------------------------------------|\n",
    "|    $*$   |                  1                 |\n",
    "|    $+$   |                  0                 |\n",
    "|    $&$   |                 -1                 |\n",
    "|    $|$   |                  0                 |\n",
    "|   $&&$   |                true                |\n",
    "|   $||$   |                false               |\n",
    "|    $,$   |               void()               |\n",
    "\n",
    "If a fold of an empty parameter pack is produced for any other operator, the program is ill-formed"
   ]
  },
  {
   "cell_type": "markdown",
   "metadata": {},
   "source": [
    "- ### Examples\n",
    "<small>_</small>"
   ]
  },
  {
   "cell_type": "code",
   "execution_count": 16,
   "metadata": {
    "collapsed": false
   },
   "outputs": [
    {
     "data": {
      "text/plain": [
       "['7', '0']"
      ]
     },
     "execution_count": 16,
     "metadata": {},
     "output_type": "execute_result"
    }
   ],
   "source": [
    "%%clang\n",
    "\n",
    "/// Summing the contents of an array at compile time\n",
    "\n",
    "#include <array>\n",
    "#include <utility>\n",
    "#include <iostream>\n",
    "\n",
    "using namespace std; \n",
    "\n",
    "namespace detail\n",
    "{\n",
    "    template <class... Ts>\n",
    "    constexpr auto sum_(Ts&&... args)\n",
    "    {\n",
    "        return (args + ...);\n",
    "    }\n",
    " \n",
    "    template <typename T, size_t N, size_t... Is>\n",
    "    constexpr T sum_impl(array<T, N> const &arr, index_sequence<Is...>)\n",
    "    {\n",
    "        return sum_(get<Is>(arr)...);\n",
    "    }\n",
    "}\n",
    " \n",
    "template <typename T, size_t N>\n",
    "constexpr T sum(array<T, N> const &arr)\n",
    "{\n",
    "    return detail::sum_impl(arr, make_index_sequence<N>{});\n",
    "} \n",
    " \n",
    "int main()\n",
    "{\n",
    "    constexpr array<int, 4> arr1{ { 1, 1, 2, 3 } };\n",
    "    constexpr array<int, 0> arr2{ };\n",
    "    \n",
    "    cout << integral_constant<int, sum(arr1)>{} << endl;\n",
    "    cout << integral_constant<int, sum(arr2)>{} << endl;\n",
    "}"
   ]
  },
  {
   "cell_type": "code",
   "execution_count": 20,
   "metadata": {
    "collapsed": false
   },
   "outputs": [
    {
     "data": {
      "text/plain": [
       "['showing Window', 'showing Widget', 'showing Toolbar']"
      ]
     },
     "execution_count": 20,
     "metadata": {},
     "output_type": "execute_result"
    }
   ],
   "source": [
    "%%clang\n",
    "\n",
    "// iterating over different types\n",
    "\n",
    "#include <iostream>\n",
    "\n",
    "struct Window {\n",
    "    void show() { std::cout << \"showing Window\\n\"; }\n",
    "} win;\n",
    "\n",
    "struct Widget {\n",
    "    void show(){ std::cout << \"showing Widget\\n\"; }\n",
    "} wid;\n",
    "\n",
    "struct Toolbar {\n",
    "    void show(){ std::cout << \"showing Toolbar\\n\"; }\n",
    "} tlb;\n",
    "\n",
    "int main()\n",
    "{\n",
    "    auto printer = [](auto&&... args) { (args.show(), ...); };\n",
    "    \n",
    "    printer(win, wid, tlb);\n",
    "    printer(); // remember void() ? \n",
    "}"
   ]
  },
  {
   "cell_type": "code",
   "execution_count": 34,
   "metadata": {
    "collapsed": false
   },
   "outputs": [
    {
     "data": {
      "text/plain": [
       "['0.5 a loaf is better than 0 bread']"
      ]
     },
     "execution_count": 34,
     "metadata": {},
     "output_type": "execute_result"
    }
   ],
   "source": [
    "%%clang\n",
    "\n",
    "// a for_each lambda\n",
    "\n",
    "#include <iostream>\n",
    "\n",
    "struct Printer \n",
    "{\n",
    "    template <class T> \n",
    "    void operator()(T&& arg) { std::cout << arg; }\n",
    "};\n",
    "\n",
    "int main()\n",
    "{\n",
    "    auto ForEach = [](auto&& fun, auto&&... args) \n",
    "    { \n",
    "        (..., std::forward<decltype(fun)>(fun)(std::forward<decltype(args)>(args)));\n",
    "    };\n",
    "    \n",
    "    ForEach(Printer{}, 0.5, \" a loaf is better than \", 0, \" bread\", '\\n');\n",
    "}"
   ]
  },
  {
   "cell_type": "code",
   "execution_count": 41,
   "metadata": {
    "collapsed": false
   },
   "outputs": [
    {
     "data": {
      "text/plain": [
       "['Array sum : 6', 'Tuple sum : 6']"
      ]
     },
     "execution_count": 41,
     "metadata": {},
     "output_type": "execute_result"
    }
   ],
   "source": [
    "%%clang\n",
    "\n",
    "// a modern summing style - showcasing the unfolding properties of std::apply\n",
    "        \n",
    "#include <array>\n",
    "#include <tuple>\n",
    "#include <utility>\n",
    "#include <iostream>\n",
    "#include <type_traits>\n",
    "\n",
    "namespace cpp17\n",
    "{\n",
    "    template< class F, class... ArgTypes>\n",
    "    std::result_of_t<F&&(ArgTypes&&...)> invoke(F&& f, ArgTypes&&... args);\n",
    "    \n",
    "    namespace detail \n",
    "    {\n",
    "        template <class F, class Tuple, std::size_t... I>\n",
    "        constexpr decltype(auto) apply_impl(F&& f, Tuple&& t, std::index_sequence<I...>) \n",
    "        {\n",
    "#if 1\n",
    "            return (std::forward<F>(f))(std::get<I>(std::forward<Tuple>(t))...);\n",
    "#else\n",
    "            return invoke(std::forward<F>(f), std::get<I>(std::forward<Tuple>(t))...);\n",
    "#endif // TODO: Elaborate on the inconsistency of invoke not being constexpr\n",
    "        }\n",
    "    }  \n",
    "\n",
    "    template <class F, class Tuple>\n",
    "    constexpr decltype(auto) apply(F&& f, Tuple&& t)\n",
    "    {\n",
    "        return detail::apply_impl(std::forward<F>(f), std::forward<Tuple>(t),\n",
    "            std::make_index_sequence<std::tuple_size<std::decay_t<Tuple>>{}>{});\n",
    "    }\n",
    "}\n",
    "\n",
    "struct Summer \n",
    "{\n",
    "    template <class... Ts> constexpr auto operator()(Ts&&... args) { return (args + ...); }\n",
    "};\n",
    "\n",
    "int main()\n",
    "{\n",
    "    constexpr std::array<int, 4>        arr{ { 1, 2, 3 } };\n",
    "    constexpr std::tuple<int, int, int> tup{   1, 2, 3   }; \n",
    "    \n",
    "    std::cout << \"Array sum : \" << cpp17::apply(Summer{}, arr) << std::endl;\n",
    "    std::cout << \"Tuple sum : \" << cpp17::apply(Summer{}, tup) << std::endl;\n",
    "}"
   ]
  },
  {
   "cell_type": "code",
   "execution_count": null,
   "metadata": {
    "collapsed": true
   },
   "outputs": [],
   "source": []
  },
  {
   "cell_type": "markdown",
   "metadata": {},
   "source": [
    "<a id='rationale'></a>\n",
    "## 2. Rationale\n"
   ]
  },
  {
   "cell_type": "markdown",
   "metadata": {},
   "source": [
    "<a id='manual'></a>\n",
    "## 3. User Manual"
   ]
  },
  {
   "cell_type": "markdown",
   "metadata": {},
   "source": [
    "<a id='Examples'></a>\n",
    "## 4. Examples"
   ]
  },
  {
   "cell_type": "code",
   "execution_count": null,
   "metadata": {
    "collapsed": true
   },
   "outputs": [],
   "source": []
  }
 ],
 "metadata": {
  "kernelspec": {
   "display_name": "Python 3",
   "language": "python",
   "name": "python3"
  },
  "language_info": {
   "codemirror_mode": {
    "name": "ipython",
    "version": 3
   },
   "file_extension": ".py",
   "mimetype": "text/x-python",
   "name": "python",
   "nbconvert_exporter": "python",
   "pygments_lexer": "ipython3",
   "version": "3.5.1"
  }
 },
 "nbformat": 4,
 "nbformat_minor": 0
}
