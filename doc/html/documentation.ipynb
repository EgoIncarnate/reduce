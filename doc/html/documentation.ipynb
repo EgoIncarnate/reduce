{
 "cells": [
  {
   "cell_type": "markdown",
   "metadata": {},
   "source": [
    "# Reduce\n",
    "\n",
    "## Nick Athanasiou\n",
    "\n",
    "Copyright © 2016 Nick Athanasiou\n",
    "\n",
    "Distributed under the Apache License Version 2.0 (See accompanying file LICENSE or [here](http://www.apache.org/licenses/LICENSE-2.0.txt))"
   ]
  },
  {
   "cell_type": "markdown",
   "metadata": {},
   "source": [
    "## Table of contents\n",
    "\n",
    "- [**Introduction**](#introduction)\n",
    "    - The functional genome of reduce\n",
    "    - C++ fold expressions\n",
    "- [**Rationale**](#rationale)\n",
    "    - What\n",
    "    - How\n",
    "- [**User Manual**](#manual)\n",
    "    - Common case folding \n",
    "    - Respecting the algebra of the involved types\n",
    "    - Single operant folding\n",
    "    - Defining identity elements\n",
    "- [**Examples**](#examples)\n"
   ]
  },
  {
   "cell_type": "markdown",
   "metadata": {},
   "source": [
    "<a id='introduction'></a>\n",
    "## Introduction\n",
    "\n",
    "`Reduce` is a header only library that provides fold expressions for **arbitrary callables**. Properties of the resulting expressions include: \n",
    "\n",
    "- Compile time evaluation (if the callables involved have such an ability)\n",
    "- Lazy evaluation (we can step through intermediate computations in a generator fashion)\n",
    "- Stateful callables"
   ]
  },
  {
   "cell_type": "markdown",
   "metadata": {},
   "source": [
    "### The functional genome of reduce\n",
    "\n",
    "The concept of _reducing_ is central to the \"_programming experience_\" in functional languages. A formal definition would go like [this](https://en.wikipedia.org/wiki/Fold_%28higher-order_function%29):\n",
    "\n",
    "> In functional programming, **fold** – also known variously as **reduce, accumulate, aggregate, compress**, or **inject** – refers to a family of **higher-order functions** that analyze a recursive data structure and through use of a given combining operation, recombine the results of recursively processing its constituent parts, building up a return value.\n",
    "\n",
    "To understand this definition, here's some info on the terminology: \n",
    "\n",
    "- **higher order function**: functions that can take functions as parameters and/or return functions as return values\n",
    "- **recursive data structure**: also known as recursively-defined, it's a data type for values that may contain other values of the same type. For an example a list in `Haskell` is (either an empty list or) a _head_ element of some type followed by a _tail_ element that's a list of the same type. \n",
    "- **combining operation**: we'll be calling it a **reducing function** or **reducers**; it's any function which takes a partial result and a new piece of information to produce a new result.\n",
    "- **accumulator**: this is included in the definition as _partial result_; essentially it \"contains\" the type of the value we reduce our recursive data structure to. \n",
    "\n",
    "So for example if we were to `reduce` the list `[1, 2, 3, 4, 5]` using the operator `(+)` we'd get the sum of the list i.e. `15`. Depending on where we \"_fold from_\" we get **left** or **right** folds. Let's look at some formal definitions for the types of these operations: \n",
    "\n",
    "```haskell\n",
    "-- type of the left fold operation\n",
    "foldl :: (b -> a -> b) -> b -> [a] -> b\n",
    "```\n",
    "\n",
    "The above informs us that `foldl` is a (higher order) function that accepts:\n",
    "\n",
    "1. a function `(b -> a -> b)` i.e. a function that takes an accumulator of type `b` and a value of type `a` and returns a partial result of type `b`\n",
    "2. an accumulator of type `b`\n",
    "3. a list of `a`s\n",
    "\n",
    "and returns a reduced value of type `b`"
   ]
  },
  {
   "cell_type": "markdown",
   "metadata": {},
   "source": [
    "### C++ fold expressions"
   ]
  },
  {
   "cell_type": "markdown",
   "metadata": {},
   "source": [
    "<a id='rationale'></a>\n",
    "## Rationale\n"
   ]
  },
  {
   "cell_type": "markdown",
   "metadata": {},
   "source": [
    "<a id='manual'></a>\n",
    "## Manual"
   ]
  },
  {
   "cell_type": "markdown",
   "metadata": {},
   "source": [
    "<a id='Examples'></a>\n",
    "## Examples"
   ]
  },
  {
   "cell_type": "code",
   "execution_count": null,
   "metadata": {
    "collapsed": true
   },
   "outputs": [],
   "source": []
  }
 ],
 "metadata": {
  "kernelspec": {
   "display_name": "Python 3",
   "language": "python",
   "name": "python3"
  },
  "language_info": {
   "codemirror_mode": {
    "name": "ipython",
    "version": 3
   },
   "file_extension": ".py",
   "mimetype": "text/x-python",
   "name": "python",
   "nbconvert_exporter": "python",
   "pygments_lexer": "ipython3",
   "version": "3.5.1"
  }
 },
 "nbformat": 4,
 "nbformat_minor": 0
}
