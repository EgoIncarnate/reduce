{
 "cells": [
  {
   "cell_type": "markdown",
   "metadata": {
    "slideshow": {
     "slide_type": "slide"
    }
   },
   "source": [
    "# Reduce\n",
    "\n",
    "## From Functional programming to C++17 fold expressions\n",
    "\n",
    "![blob](pics/Cloud3.png)\n",
    "\n",
    "\n",
    "## Nick Athanasiou"
   ]
  },
  {
   "cell_type": "markdown",
   "metadata": {
    "slideshow": {
     "slide_type": "slide"
    }
   },
   "source": [
    "# Some motivation\n",
    "\n",
    "<small>__</small>"
   ]
  },
  {
   "cell_type": "markdown",
   "metadata": {
    "slideshow": {
     "slide_type": "subslide"
    }
   },
   "source": [
    "## Why is there no transform_if in the Standard Library ? \n",
    "\n",
    "<small>__</small>"
   ]
  },
  {
   "cell_type": "markdown",
   "metadata": {
    "slideshow": {
     "slide_type": "subslide"
    }
   },
   "source": [
    "### Example use case\n",
    "- Contitional copy (`copy_if`) from a container of values to a container of pointers to those values (`transform`).\n",
    "\n",
    "---\n",
    "\n",
    "```cpp\n",
    "struct ha { \n",
    "    int i;\n",
    "    explicit ha(int a) : i(a) {}\n",
    "};\n",
    "\n",
    "int main() \n",
    "{\n",
    "    vector<ha> v{ ha{1}, ha{7}, ha{1} }; // initial vector\n",
    "   \n",
    "    vector<ha*> ph; // target vector\n",
    "    vector<ha*> pv; // temporary vector\n",
    "   \n",
    "   // 1. \n",
    "    transform(v.begin(), v.end(), back_inserter(pv), \n",
    "        [](ha &arg) { return &arg; }); \n",
    "   \n",
    "   // 2. \n",
    "    copy_if(pv.begin(), pv.end(), back_inserter(ph),\n",
    "        [](ha *parg) { return parg->i < 2;  });\n",
    "\n",
    "    return 0; // notice the inconsistency ? \n",
    "}\n",
    "```"
   ]
  },
  {
   "cell_type": "markdown",
   "metadata": {
    "slideshow": {
     "slide_type": "subslide"
    }
   },
   "source": [
    "### The obvious \"fix\"\n",
    "\n",
    "---\n",
    "\n",
    "```cpp\n",
    "template <\n",
    "    class InputIterator, class OutputIterator, \n",
    "    class UnaryOperator, class Pred\n",
    ">\n",
    "OutputIterator transform_if(InputIterator first1, InputIterator last1,\n",
    "                            OutputIterator result, UnaryOperator op, Pred pred)\n",
    "{\n",
    "    while (first1 != last1) \n",
    "    {\n",
    "        if (pred(*first1)) {\n",
    "            *result = op(*first1);\n",
    "            ++result;\n",
    "        }\n",
    "        ++first1;\n",
    "    }\n",
    "    return result;\n",
    "}\n",
    "\n",
    "// example call \n",
    "transform_if(v.begin(), v.end(), back_inserter(ph), \n",
    "[](ha &arg) { return &arg;      }, // 1. \n",
    "[](ha &arg) { return arg.i < 2; });// 2.\n",
    "```"
   ]
  },
  {
   "cell_type": "markdown",
   "metadata": {
    "slideshow": {
     "slide_type": "subslide"
    }
   },
   "source": [
    "### A scholar's fix \n",
    "\n",
    "---\n",
    "\n",
    "```cpp\n",
    "#include <boost/range/algorithm.hpp>\n",
    "#include <boost/range/adaptors.hpp>\n",
    "\n",
    "using namespace boost::adaptors;\n",
    "\n",
    "// only for succinct predicates without lambdas\n",
    "#include <boost/phoenix.hpp>\n",
    "using namespace boost::phoenix::arg_names;\n",
    "\n",
    "#include <iostream>\n",
    "\n",
    "int main()\n",
    "{\n",
    "    std::vector<int> const v { 1,2,3,4,5 };\n",
    "\n",
    "    boost::copy(\n",
    "            v | filtered(arg1 % 2) | transformed(arg1 * arg1 / 7.0),\n",
    "            std::ostream_iterator<double>(std::cout, \"\\n\"));\n",
    "}\n",
    "```"
   ]
  },
  {
   "cell_type": "markdown",
   "metadata": {
    "slideshow": {
     "slide_type": "subslide"
    }
   },
   "source": [
    "### The wat\n",
    "\n",
    "---\n",
    "\n",
    "```cpp\n",
    "std::accumulate( v.begin(), v.end(), std::back_inserter( v1 ),\n",
    "    []( decltype( std::back_inserter( v1 ) ) &it, int &x )\n",
    "    {\n",
    "        return ( x % 2 == 0 ? ( it = &x, ++it ) : it  );\n",
    "    });\n",
    "```"
   ]
  },
  {
   "cell_type": "markdown",
   "metadata": {
    "slideshow": {
     "slide_type": "fragment"
    }
   },
   "source": [
    "---\n",
    "\n",
    "### That was a reduction, but let's take it from the top"
   ]
  },
  {
   "cell_type": "markdown",
   "metadata": {
    "collapsed": true,
    "slideshow": {
     "slide_type": "slide"
    }
   },
   "source": [
    "# Roadmap\n",
    "\n",
    "<small>_</small>"
   ]
  },
  {
   "cell_type": "markdown",
   "metadata": {
    "slideshow": {
     "slide_type": "fragment"
    }
   },
   "source": [
    "<a id='contents'></a>\n",
    "- [**\"reduce\" the ubiquitous**](#reduce_the_ubiquitous)\n",
    "- [**transducers**](#transducers)\n",
    "- [**on composition**](#on_composition)\n",
    "- [**C++1z fold expressions**](#c_1z_folds)\n",
    "- [**arbitrary fold expressions**](#arbitrary_folds)\n",
    "- [**lazy evaluation**](#lazy_evaluation)\n",
    "- [**using transducers and arbitrary fold expressions**](#transducers_folds)"
   ]
  },
  {
   "cell_type": "markdown",
   "metadata": {
    "slideshow": {
     "slide_type": "slide"
    }
   },
   "source": [
    "<a id='reduce_the_ubiquitous'></a>\n",
    "# 1. \"reduce\" the ubiquitous\n",
    "\n",
    "[-](#contents)"
   ]
  },
  {
   "cell_type": "markdown",
   "metadata": {
    "slideshow": {
     "slide_type": "subslide"
    }
   },
   "source": [
    "## 1.1 The functional genome of reduce\n",
    "\n",
    "The concept of _reducing_ is central to the **\"_programming experience_\"** in functional languages. A formal definition would go like [this](https://en.wikipedia.org/wiki/Fold_%28higher-order_function%29):\n",
    "\n",
    "> In functional programming, **fold** – also known variously as **reduce, accumulate, aggregate, compress**, or **inject** – refers to a family of **higher-order functions** that analyze a recursive data structure and through use of a given combining operation, recombine the results of recursively processing its constituent parts, building up a return value.\n"
   ]
  },
  {
   "cell_type": "markdown",
   "metadata": {
    "slideshow": {
     "slide_type": "subslide"
    }
   },
   "source": [
    "- **higher order function**"
   ]
  },
  {
   "cell_type": "markdown",
   "metadata": {
    "slideshow": {
     "slide_type": "fragment"
    }
   },
   "source": [
    "- **recursive data structure**"
   ]
  },
  {
   "cell_type": "markdown",
   "metadata": {
    "slideshow": {
     "slide_type": "fragment"
    }
   },
   "source": [
    "- **combining operation**"
   ]
  },
  {
   "cell_type": "markdown",
   "metadata": {
    "slideshow": {
     "slide_type": "fragment"
    }
   },
   "source": [
    "- **accumulator**"
   ]
  },
  {
   "cell_type": "markdown",
   "metadata": {
    "slideshow": {
     "slide_type": "subslide"
    }
   },
   "source": [
    "### example \n",
    "\n",
    "### `reduce` the list `[1, 2, 3, 4, 5]` using `(+)` = `15`\n"
   ]
  },
  {
   "cell_type": "markdown",
   "metadata": {
    "slideshow": {
     "slide_type": "subslide"
    }
   },
   "source": [
    "### Depending on where we \"_fold from_\" we get **left** or **right** folds. "
   ]
  },
  {
   "cell_type": "markdown",
   "metadata": {
    "slideshow": {
     "slide_type": "subslide"
    }
   },
   "source": [
    "```haskell\n",
    "-- type of the left fold operation\n",
    "foldl :: (b -> a -> b) -> b -> [a] -> b\n",
    "```"
   ]
  },
  {
   "cell_type": "markdown",
   "metadata": {
    "slideshow": {
     "slide_type": "fragment"
    }
   },
   "source": [
    "### The above informs us that `foldl` is a (higher order) function that accepts:"
   ]
  },
  {
   "cell_type": "markdown",
   "metadata": {
    "slideshow": {
     "slide_type": "fragment"
    }
   },
   "source": [
    "- a function `(b -> a -> b)`"
   ]
  },
  {
   "cell_type": "markdown",
   "metadata": {
    "slideshow": {
     "slide_type": "fragment"
    }
   },
   "source": [
    "- an accumulator of type `b`"
   ]
  },
  {
   "cell_type": "markdown",
   "metadata": {
    "slideshow": {
     "slide_type": "fragment"
    }
   },
   "source": [
    "\n",
    "- a list of `a`"
   ]
  },
  {
   "cell_type": "markdown",
   "metadata": {
    "slideshow": {
     "slide_type": "fragment"
    }
   },
   "source": [
    "\n",
    "### and returns a reduced value of type `b`. "
   ]
  },
  {
   "cell_type": "markdown",
   "metadata": {
    "slideshow": {
     "slide_type": "subslide"
    }
   },
   "source": [
    "### Let's make a visualization of the left fold operation for this expression\n",
    "\n",
    "---\n",
    "\n",
    "```haskell\n",
    "-- add numbers 1 to 5 with a zero accumulator\n",
    "foldl (+) 0 [1..5]\n",
    "```"
   ]
  },
  {
   "cell_type": "code",
   "execution_count": 1,
   "metadata": {
    "collapsed": false,
    "slideshow": {
     "slide_type": "subslide"
    }
   },
   "outputs": [
    {
     "data": {
      "text/plain": [
       "['(((((0+1)+2)+3)+4)+5)']"
      ]
     },
     "execution_count": 1,
     "metadata": {},
     "output_type": "execute_result"
    }
   ],
   "source": [
    "%%ghc\n",
    "main = do\n",
    "    putStrLn $ foldl (\\x y -> concat [\"(\",x,\"+\",y,\")\"]) \"0\" (map show [1..5])"
   ]
  },
  {
   "cell_type": "markdown",
   "metadata": {
    "slideshow": {
     "slide_type": "subslide"
    }
   },
   "source": [
    "### type definition for the right fold operation\n",
    "\n",
    "---\n",
    "\n",
    "```haskell\n",
    "foldr :: (a -> b -> b) -> b -> [a] -> b\n",
    "```"
   ]
  },
  {
   "cell_type": "markdown",
   "metadata": {
    "slideshow": {
     "slide_type": "fragment"
    }
   },
   "source": [
    "### Notice however the type of the **reducer**. We say that the **accumulator** `b` \"consumes\" the operants from the right. "
   ]
  },
  {
   "cell_type": "markdown",
   "metadata": {
    "slideshow": {
     "slide_type": "subslide"
    }
   },
   "source": [
    "### Visualizing the expression\n",
    "\n",
    "---\n",
    "\n",
    "```haskell\n",
    "foldr (+) 0 [1..5]\n",
    "```"
   ]
  },
  {
   "cell_type": "code",
   "execution_count": 2,
   "metadata": {
    "collapsed": false,
    "slideshow": {
     "slide_type": "subslide"
    }
   },
   "outputs": [
    {
     "data": {
      "text/plain": [
       "['(1+(2+(3+(4+(5+0)))))']"
      ]
     },
     "execution_count": 2,
     "metadata": {},
     "output_type": "execute_result"
    }
   ],
   "source": [
    "%%ghc\n",
    "main = do\n",
    "    putStrLn $ foldr (\\x y -> concat [\"(\",x,\"+\",y,\")\"]) \"0\" (map show [1..5])"
   ]
  },
  {
   "cell_type": "markdown",
   "metadata": {
    "slideshow": {
     "slide_type": "subslide"
    }
   },
   "source": [
    "## 1.2 Reduce is more general than map and filter"
   ]
  },
  {
   "cell_type": "markdown",
   "metadata": {
    "slideshow": {
     "slide_type": "subslide"
    }
   },
   "source": [
    "### map (or transform) is a higher order function that given a mutation function and an iterable produces new values for the iterable (eagerly or lazily depending on the language / implementation)"
   ]
  },
  {
   "cell_type": "code",
   "execution_count": 37,
   "metadata": {
    "collapsed": false,
    "scrolled": true,
    "slideshow": {
     "slide_type": "subslide"
    }
   },
   "outputs": [
    {
     "name": "stdout",
     "output_type": "stream",
     "text": [
      "Help on class map in module builtins:\n",
      "\n",
      "class map(object)\n",
      " |  map(func, *iterables) --> map object\n",
      " |  \n",
      " |  Make an iterator that computes the function using arguments from\n",
      " |  each of the iterables.  Stops when the shortest iterable is exhausted.\n",
      " |  \n",
      " |  Methods defined here:\n",
      " |  \n",
      " |  __getattribute__(self, name, /)\n",
      " |      Return getattr(self, name).\n",
      " |  \n",
      " |  __iter__(self, /)\n",
      " |      Implement iter(self).\n",
      " |  \n",
      " |  __new__(*args, **kwargs) from builtins.type\n",
      " |      Create and return a new object.  See help(type) for accurate signature.\n",
      " |  \n",
      " |  __next__(self, /)\n",
      " |      Implement next(self).\n",
      " |  \n",
      " |  __reduce__(...)\n",
      " |      Return state information for pickling.\n",
      "\n"
     ]
    }
   ],
   "source": [
    "help(map)"
   ]
  },
  {
   "cell_type": "code",
   "execution_count": 38,
   "metadata": {
    "collapsed": false,
    "slideshow": {
     "slide_type": "subslide"
    }
   },
   "outputs": [
    {
     "data": {
      "text/plain": [
       "['CAPITALIZE', 'EVERY', 'WORD']"
      ]
     },
     "execution_count": 38,
     "metadata": {},
     "output_type": "execute_result"
    }
   ],
   "source": [
    "list(map(lambda uc : uc.upper(), \"Capitalize every word\".split()))"
   ]
  },
  {
   "cell_type": "markdown",
   "metadata": {
    "slideshow": {
     "slide_type": "subslide"
    }
   },
   "source": [
    "### map can be expressed as a reduction"
   ]
  },
  {
   "cell_type": "code",
   "execution_count": 41,
   "metadata": {
    "collapsed": false,
    "slideshow": {
     "slide_type": "subslide"
    }
   },
   "outputs": [
    {
     "data": {
      "text/plain": [
       "['[2,4,6,8]', '[2,4,6,8]', '[\"1\",\"2\",\"3\",\"4\"]', '\"1234\"']"
      ]
     },
     "execution_count": 41,
     "metadata": {},
     "output_type": "execute_result"
    }
   ],
   "source": [
    "%%ghc\n",
    "     \n",
    "-- guess why we use a right fold\n",
    "map' :: (a -> b) -> [a] -> [b]  \n",
    "map' f xs = foldr (\\x acc -> f x : acc) [] xs  \n",
    "\n",
    "main = do\n",
    "    print $ map' (*2) [1..4]\n",
    "    print $ map' (\\x -> 2*x) [1..4]\n",
    "    print $ map' (\\x -> show x) [1..4]\n",
    "    print $ foldr ((++).show) \"\" [1..4]"
   ]
  },
  {
   "cell_type": "code",
   "execution_count": 2,
   "metadata": {
    "collapsed": false,
    "scrolled": true,
    "slideshow": {
     "slide_type": "subslide"
    }
   },
   "outputs": [
    {
     "data": {
      "text/plain": [
       "['1',\n",
       " '2',\n",
       " 'Fizz',\n",
       " '4',\n",
       " 'Buzz',\n",
       " 'Fizz',\n",
       " '7',\n",
       " '8',\n",
       " 'Fizz',\n",
       " 'Buzz',\n",
       " '11',\n",
       " 'Fizz',\n",
       " '13',\n",
       " '14',\n",
       " 'FizzBuzz',\n",
       " '16',\n",
       " '17',\n",
       " 'Fizz',\n",
       " '19',\n",
       " 'Buzz',\n",
       " 'Fizz',\n",
       " '22',\n",
       " '23',\n",
       " 'Fizz',\n",
       " 'Buzz',\n",
       " '26',\n",
       " 'Fizz',\n",
       " '28',\n",
       " '29',\n",
       " 'FizzBuzz',\n",
       " '31',\n",
       " '32',\n",
       " 'Fizz',\n",
       " '34',\n",
       " 'Buzz',\n",
       " 'Fizz',\n",
       " '37',\n",
       " '38',\n",
       " 'Fizz',\n",
       " 'Buzz',\n",
       " '41',\n",
       " 'Fizz',\n",
       " '43',\n",
       " '44',\n",
       " 'FizzBuzz',\n",
       " '46',\n",
       " '47',\n",
       " 'Fizz',\n",
       " '49',\n",
       " 'Buzz',\n",
       " 'Fizz',\n",
       " '52',\n",
       " '53',\n",
       " 'Fizz',\n",
       " 'Buzz',\n",
       " '56',\n",
       " 'Fizz',\n",
       " '58',\n",
       " '59',\n",
       " 'FizzBuzz',\n",
       " '61',\n",
       " '62',\n",
       " 'Fizz',\n",
       " '64',\n",
       " 'Buzz',\n",
       " 'Fizz',\n",
       " '67',\n",
       " '68',\n",
       " 'Fizz',\n",
       " 'Buzz',\n",
       " '71',\n",
       " 'Fizz',\n",
       " '73',\n",
       " '74',\n",
       " 'FizzBuzz',\n",
       " '76',\n",
       " '77',\n",
       " 'Fizz',\n",
       " '79',\n",
       " 'Buzz',\n",
       " 'Fizz',\n",
       " '82',\n",
       " '83',\n",
       " 'Fizz',\n",
       " 'Buzz',\n",
       " '86',\n",
       " 'Fizz',\n",
       " '88',\n",
       " '89',\n",
       " 'FizzBuzz',\n",
       " '91',\n",
       " '92',\n",
       " 'Fizz',\n",
       " '94',\n",
       " 'Buzz',\n",
       " 'Fizz',\n",
       " '97',\n",
       " '98',\n",
       " 'Fizz',\n",
       " 'Buzz']"
      ]
     },
     "execution_count": 2,
     "metadata": {},
     "output_type": "execute_result"
    }
   ],
   "source": [
    "from functools import reduce\n",
    "\n",
    "def fizz_buzz(out, item):\n",
    "    \"\"\" solution to the fizz buzz puzzle\n",
    "        modularity is still not optimal\n",
    "    \"\"\"\n",
    "    a = \"\"\n",
    "    if 0 == (item % 3): a += 'Fizz'\n",
    "    if 0 == (item % 5): a += 'Buzz'\n",
    "    elif (item % 3):    a  = str(item)\n",
    "    \n",
    "    out.append(a)\n",
    "    return out\n",
    "\n",
    "reduce(fizz_buzz, range(1, 101), [])"
   ]
  },
  {
   "cell_type": "markdown",
   "metadata": {
    "slideshow": {
     "slide_type": "subslide"
    }
   },
   "source": [
    "### filter can be expressed as a reduction"
   ]
  },
  {
   "cell_type": "code",
   "execution_count": 48,
   "metadata": {
    "collapsed": false,
    "slideshow": {
     "slide_type": "subslide"
    }
   },
   "outputs": [
    {
     "data": {
      "text/plain": [
       "['[11,12,13,14,15,16,17,18,19,20]', '[2,4,6,8,10,12,14,16,18,20]']"
      ]
     },
     "execution_count": 48,
     "metadata": {},
     "output_type": "execute_result"
    }
   ],
   "source": [
    "%%ghc\n",
    "\n",
    "filter' :: (a -> Bool) -> [a] -> [a]  \n",
    "filter' p = foldr (\\x acc -> if p x then x : acc else acc) []\n",
    "\n",
    "main = do\n",
    "    print $ filter' (>10) [1..20]\n",
    "    print $ filter' even [1..20]\n",
    "    "
   ]
  },
  {
   "cell_type": "code",
   "execution_count": 56,
   "metadata": {
    "collapsed": false,
    "slideshow": {
     "slide_type": "subslide"
    }
   },
   "outputs": [
    {
     "data": {
      "text/plain": [
       "[1, 3, 5, 7, 9, 11, 13, 15, 17, 19]"
      ]
     },
     "execution_count": 56,
     "metadata": {},
     "output_type": "execute_result"
    }
   ],
   "source": [
    "from functools import reduce\n",
    "\n",
    "def my_filter(predicate, iterable):\n",
    "    \"\"\" filter as a reducer\n",
    "    \"\"\"\n",
    "    def filter_reducer(sequence, item):\n",
    "        if predicate(item):\n",
    "            sequence.append(item)\n",
    "        return sequence\n",
    "\n",
    "    return reduce(filter_reducer, iterable, [])\n",
    "\n",
    "my_filter(lambda x: x % 2, range(1, 20))"
   ]
  },
  {
   "cell_type": "markdown",
   "metadata": {
    "slideshow": {
     "slide_type": "slide"
    }
   },
   "source": [
    "<a id='transducers'></a>\n",
    "# 2. transducers\n",
    "\n",
    "[-](#contents)"
   ]
  },
  {
   "cell_type": "markdown",
   "metadata": {
    "slideshow": {
     "slide_type": "subslide"
    }
   },
   "source": [
    "## A concept introduced by Rich Hickey in his 8/2014 article \"Transducers are coming\""
   ]
  },
  {
   "cell_type": "markdown",
   "metadata": {
    "slideshow": {
     "slide_type": "subslide"
    }
   },
   "source": [
    "![hik](pics/hickey_burito.png)"
   ]
  },
  {
   "cell_type": "markdown",
   "metadata": {
    "slideshow": {
     "slide_type": "subslide"
    }
   },
   "source": [
    "### a transducer is a function that takes one reducing function and returns another \n",
    "\n",
    "---\n",
    "\n",
    "```\n",
    "(whatever, input -> whatever) -> (whatever, input -> whatever)\n",
    "```\n",
    "\n",
    "<small>shown in closure</small>\n",
    "                                          "
   ]
  },
  {
   "cell_type": "markdown",
   "metadata": {
    "slideshow": {
     "slide_type": "subslide"
    }
   },
   "source": [
    "The primary power of transducers comes from their **fundamental decoupling** - they don't care (or know about):\n",
    "\n",
    "* the 'job' being done (what the reducing function does)\n",
    "* the context of use (what 'whatever' is)\n",
    "* the source of inputs (where input comes from)"
   ]
  },
  {
   "cell_type": "markdown",
   "metadata": {
    "slideshow": {
     "slide_type": "subslide"
    }
   },
   "source": [
    "### extract the essence of map and filter\n",
    "\n",
    "C++ implementation in [atria](https://github.com/Ableton/atria) (presented by Juan Pedro Bolivar Puente in CppCon 2015)"
   ]
  },
  {
   "cell_type": "markdown",
   "metadata": {
    "slideshow": {
     "slide_type": "subslide"
    }
   },
   "source": [
    "two of the most common STL functions\n",
    "\n",
    "<h3>\n",
    "<pre style=\"background:#FFFFFF;color:#000000\"><span style=\"color:#99cf50\">template </span>&lt;<span style=\"color:#99cf50\">typename</span> In, <span style=\"color:#99cf50\">typename</span> Out, <span style=\"color:#99cf50\">typename</span> F>\n",
    "Out <span style=\"color:#89bdff\">transform</span>(In first, In last, Out out, F fn) {\n",
    "    for (; first != last; ++first) {\n",
    "        *out++ = fn(*first);\n",
    "    }\n",
    "    return out;\n",
    "}\n",
    "\n",
    "<span style=\"color:#99cf50\">template </span>&lt;<span style=\"color:#99cf50\">typename</span> In, <span style=\"color:#99cf50\">typename</span> Out, <span style=\"color:#99cf50\">typename</span> P>\n",
    "Out <span style=\"color:#89bdff\">filter</span>(In first, In last, Out out, P pred) {\n",
    "    for (; first != last; ++first) {\n",
    "        if (<span style=\"color:#dad085\">pred</span>(*first))\n",
    "            *out++ = *first;\n",
    "    }\n",
    "    return out;\n",
    "}\n",
    "</pre>\n",
    "</h3>"
   ]
  },
  {
   "cell_type": "markdown",
   "metadata": {
    "slideshow": {
     "slide_type": "subslide"
    }
   },
   "source": [
    "have very much in common\n",
    "\n",
    "<h3>\n",
    "<pre style=\"background:#FFFFFF;color:#000\"><span style=\"color:#99cf50\">template </span>&lt;<span style=\"color:#99cf50\">typename</span> In, <span style=\"color:#99cf50\">typename</span> Out, <span style=\"color:#99cf50\">typename</span> F>\n",
    "Out transform(In first, In last, Out out, F fn) {\n",
    "<span style=\"color:#B900B9\">    for (; first != last; ++first) {</span>\n",
    "        *out++ = fn(*first);\n",
    "<span style=\"color:#B900B9\">    }\n",
    "    return out;</span>\n",
    "}\n",
    "\n",
    "<span style=\"color:#99cf50\">template </span>&lt;<span style=\"color:#99cf50\">typename</span> In, <span style=\"color:#99cf50\">typename</span> Out, <span style=\"color:#99cf50\">typename</span> P>\n",
    "Out filter(In first, In last, Out out, P pred) {\n",
    "<span style=\"color:#B900B9\">    for (; first != last; ++first) {</span>\n",
    "        if (<span style=\"color:#dad085\">pred</span>(*first))\n",
    "            *out++ = *first;\n",
    "<span style=\"color:#B900B9\">    }\n",
    "    return out;</span>\n",
    "}\n",
    "</pre>\n",
    "</h3>"
   ]
  },
  {
   "cell_type": "markdown",
   "metadata": {
    "slideshow": {
     "slide_type": "subslide"
    }
   },
   "source": [
    "and an almost different way of producing an output\n",
    "\n",
    "<h3>\n",
    "<pre style=\"background:#FFFFFF;color:#000\"><span style=\"color:#99cf50\">template </span>&lt;<span style=\"color:#99cf50\">typename</span> In, <span style=\"color:#99cf50\">typename</span> Out, <span style=\"color:#99cf50\">typename</span> F>\n",
    "Out transform(In first, In last, Out out, F fn) {\n",
    "<span style=\"color:#B900B9\">    for (; first != last; ++first) {</span>\n",
    "        <span style=\"color:#89bdff\">*out++ = fn(*first);</span>\n",
    "<span style=\"color:#B900B9\">    }\n",
    "    return out;</span>\n",
    "}\n",
    "\n",
    "<span style=\"color:#99cf50\">template </span>&lt;<span style=\"color:#99cf50\">typename</span> In, <span style=\"color:#99cf50\">typename</span> Out, <span style=\"color:#99cf50\">typename</span> P>\n",
    "Out filter(In first, In last, Out out, P pred) {\n",
    "<span style=\"color:#B900B9\">    for (; first != last; ++first) {</span>\n",
    "        if (<span style=\"color:#dad085\">pred</span>(*first))\n",
    "            <span style=\"color:#89bdff\">*out++</span> = *first;\n",
    "<span style=\"color:#B900B9\">    }\n",
    "    return out;</span>\n",
    "}\n",
    "</pre>\n",
    "</h3>"
   ]
  },
  {
   "cell_type": "markdown",
   "metadata": {
    "slideshow": {
     "slide_type": "subslide"
    }
   },
   "source": [
    "accumulate is the \"purest way\" of stepping through a sequence\n",
    "\n",
    "<h3>\n",
    "<pre style=\"background:#FFFFFF;color:#000\"><span style=\"color:#99cf50\">template </span>&lt;<span style=\"color:#99cf50\">typename</span> In, <span style=\"color:#99cf50\">typename</span> S, <span style=\"color:#99cf50\">typename</span> Rf>\n",
    "S <span style=\"color:#89bdff\">accumulate</span>(In first, In last, S state, Rf step) {\n",
    "    for (; first != last; ++first) {\n",
    "        state = step(state, *first);\n",
    "    }\n",
    "    return state;\n",
    "}\n",
    "</pre>\n",
    "</h3>"
   ]
  },
  {
   "cell_type": "markdown",
   "metadata": {
    "slideshow": {
     "slide_type": "subslide"
    }
   },
   "source": [
    "just applying a step function\n",
    "\n",
    "<h3>\n",
    "<pre style=\"background:#FFFFFF;color:#000\"><span style=\"color:#99cf50\">template </span>&lt;<span style=\"color:#99cf50\">typename</span> In, <span style=\"color:#99cf50\">typename</span> S, <span style=\"color:#99cf50\">typename</span> Rf>\n",
    "S accumulate(In first, In last, S state, Rf step) {\n",
    "<span style=\"color:#B900B9\">    for (; first != last; ++first) {</span>\n",
    "        state = step(state, *first);\n",
    "<span style=\"color:#B900B9\">    }\n",
    "    return state;</span>\n",
    "}\n",
    "</pre>\n",
    "</h3>"
   ]
  },
  {
   "cell_type": "markdown",
   "metadata": {
    "slideshow": {
     "slide_type": "fragment"
    }
   },
   "source": [
    "that could be an abstraction of what we expect an \"appender\" to do\n",
    "\n",
    "<h3>\n",
    "<pre style=\"background:#FFFFFF;color:#000\"><span style=\"color:#99cf50\">auto</span> output_rf = [] (<span style=\"color:#99cf50\">auto</span> out, <span style=\"color:#99cf50\">auto</span> input) {\n",
    "<span style=\"color:#B900B9\">    *out++</span> = input;\n",
    "    return out;\n",
    "};\n",
    "</pre>\n",
    "</h3>"
   ]
  },
  {
   "cell_type": "markdown",
   "metadata": {
    "slideshow": {
     "slide_type": "fragment"
    }
   },
   "source": [
    "### so map and filter can be epxressed in terms of reduce in c++ as well"
   ]
  },
  {
   "cell_type": "markdown",
   "metadata": {
    "slideshow": {
     "slide_type": "subslide"
    }
   },
   "source": [
    "<h3>\n",
    "<pre style=\"background:#FFFFFF;color:#000\"><span style=\"color:#99cf50\">template </span>&lt;<span style=\"color:#99cf50\">typename</span> In, <span style=\"color:#99cf50\">typename</span> Out, <span style=\"color:#99cf50\">typename</span> F>\n",
    "Out <span style=\"color:#89bdff\">transform</span>(In first, In last, Out out, F fn) {\n",
    "    return accumulate(first, last, out, \n",
    "        &#91;&amp;&#93;(auto state, auto input) {\n",
    "           return output_rf(state, fn(in));\n",
    "        });\n",
    "}\n",
    "\n",
    "<span style=\"color:#99cf50\">template </span>&lt;<span style=\"color:#99cf50\">typename</span> In, <span style=\"color:#99cf50\">typename</span> Out, <span style=\"color:#99cf50\">typename</span> P>\n",
    "Out <span style=\"color:#89bdff\">filter</span>(In first, In last, Out out, P pred) {\n",
    "    return accumulate(first, last, out, \n",
    "        &#91;&amp;&#93;(auto state, auto input) {\n",
    "          return pred(input) ? \n",
    "              output_rf(state, input) : state;\n",
    "        });\n",
    "}\n",
    "</pre>\n",
    "</h3>"
   ]
  },
  {
   "cell_type": "markdown",
   "metadata": {
    "slideshow": {
     "slide_type": "subslide"
    }
   },
   "source": [
    "<h3>\n",
    "<pre style=\"background:#FFFFFF;color:#000\"><span style=\"color:#99cf50\">template </span>&lt;<span style=\"color:#99cf50\">typename</span> In, <span style=\"color:#99cf50\">typename</span> Out, <span style=\"color:#99cf50\">typename</span> F>\n",
    "Out transform(In first, In last, Out out, F fn) {\n",
    "    return accumulate(first, last, out, <span style=\"color:#89bdff\">\n",
    "        &#91;&amp;&#93;(auto state, auto input) {\n",
    "           return output_rf(state, fn(in));\n",
    "        }</span>);\n",
    "}\n",
    "\n",
    "<span style=\"color:#99cf50\">template </span>&lt;<span style=\"color:#99cf50\">typename</span> In, <span style=\"color:#99cf50\">typename</span> Out, <span style=\"color:#99cf50\">typename</span> P>\n",
    "Out filter(In first, In last, Out out, P pred) {\n",
    "    return accumulate(first, last, out, <span style=\"color:#89bdff\">\n",
    "        &#91;&amp;&#93;(auto state, auto input) {\n",
    "          return pred(input) ? \n",
    "              output_rf(state, input) : state;\n",
    "        }</span>);\n",
    "}\n",
    "</pre>\n",
    "</h3>"
   ]
  },
  {
   "cell_type": "markdown",
   "metadata": {
    "slideshow": {
     "slide_type": "subslide"
    }
   },
   "source": [
    "<h3>\n",
    "<pre style=\"background:#FFFFFF;color:#000\"><span style=\"color:#99cf50\">template </span>&lt;<span style=\"color:#99cf50\">typename</span> In, <span style=\"color:#99cf50\">typename</span> Out, <span style=\"color:#99cf50\">typename</span> F>\n",
    "Out transform(In first, In last, Out out, F fn) {\n",
    "    return accumulate(first, last, out, <span style=\"color:#89bdff\">\n",
    "        &#91;&amp;&#93;(auto state, auto input) {\n",
    "           return <span style=\"color:#B900B9\">output_rf</span>(state, fn(in));\n",
    "        }</span>);\n",
    "}\n",
    "\n",
    "<span style=\"color:#99cf50\">template </span>&lt;<span style=\"color:#99cf50\">typename</span> In, <span style=\"color:#99cf50\">typename</span> Out, <span style=\"color:#99cf50\">typename</span> P>\n",
    "Out filter(In first, In last, Out out, P pred) {\n",
    "    return accumulate(first, last, out, <span style=\"color:#89bdff\">\n",
    "        &#91;&amp;&#93;(auto state, auto input) {\n",
    "          return pred(input) ? \n",
    "              <span style=\"color:#B900B9\">output_rf</span>(state, input) : state;\n",
    "        }</span>);\n",
    "}\n",
    "</pre>\n",
    "</h3>"
   ]
  },
  {
   "cell_type": "markdown",
   "metadata": {
    "slideshow": {
     "slide_type": "subslide"
    }
   },
   "source": [
    "```cpp\n",
    "auto map = [] (auto fn) {\n",
    "  return [=] (auto step) {\n",
    "    return [=] (auto s, auto ...ins) {\n",
    "      return step(s, fn(ins...));\n",
    "    };\n",
    "  };\n",
    "};\n",
    "\n",
    "// transform(first, last, fn) ==\n",
    "\n",
    "accumulate(first, last, out,\n",
    "    map(fn)(output_rf));\n",
    "\n",
    "```\n",
    "            \n",
    "              "
   ]
  },
  {
   "cell_type": "markdown",
   "metadata": {
    "slideshow": {
     "slide_type": "subslide"
    }
   },
   "source": [
    "```cpp\n",
    "auto filter = [] (auto pred) {\n",
    "  return [=] (auto step) {\n",
    "    return [=] (auto s, auto ...ins) {\n",
    "      return pred(ins...)\n",
    "             ? step(s, ins...)\n",
    "             : s;\n",
    "    };\n",
    "  };\n",
    "};\n",
    "\n",
    "// filter(first, last, pred) ==\n",
    "accumulate(first, last, out,\n",
    "    filter(fn)(output_rf));\n",
    "```"
   ]
  },
  {
   "cell_type": "markdown",
   "metadata": {
    "slideshow": {
     "slide_type": "subslide"
    }
   },
   "source": [
    "composing to produce new execution patterns\n",
    "\n",
    "![drinko](pics/drinko.gif)"
   ]
  },
  {
   "cell_type": "markdown",
   "metadata": {
    "slideshow": {
     "slide_type": "subslide"
    }
   },
   "source": [
    "examples in Haskell\n",
    "\n",
    "---\n",
    "\n",
    "```haskell\n",
    "mapping :: (a -> b) -> (r -> b -> r) -> (r -> a -> r)\n",
    "mapping f xf r a = xf r (f a)\n",
    "\n",
    "filtering :: (a -> Bool) -> (r -> a -> r) -> (r -> a -> r)\n",
    "filtering p xf r a = if p a then xf r a else r\n",
    "\n",
    "flatmapping :: (a -> [b]) -> (r -> b -> r) -> (r -> a -> r)\n",
    "flatmapping f xf r a = foldl xf r (f a)\n",
    "```"
   ]
  },
  {
   "cell_type": "markdown",
   "metadata": {
    "slideshow": {
     "slide_type": "slide"
    }
   },
   "source": [
    "<a id='on_composition'></a>\n",
    "# 3. on composition ...\n",
    "\n",
    "[-](#contents)"
   ]
  },
  {
   "cell_type": "markdown",
   "metadata": {
    "slideshow": {
     "slide_type": "subslide"
    }
   },
   "source": [
    "### In computer science\n",
    "\n",
    "### $composition \\equiv combination$"
   ]
  },
  {
   "cell_type": "markdown",
   "metadata": {
    "slideshow": {
     "slide_type": "fragment"
    }
   },
   "source": [
    "### whether we refer to object or function composition, the notion of creating \"entities\" of increasing complexity is common"
   ]
  },
  {
   "cell_type": "markdown",
   "metadata": {
    "slideshow": {
     "slide_type": "fragment"
    }
   },
   "source": [
    "objectives: \n",
    "\n",
    "* maintainability\n",
    "* code reuse\n",
    "* readability (?) \n",
    "* code beauty (?)\n",
    "\n",
    "reuse brings familiarity with certain code components hence readability implicitly increaces and code beauty, well ... what could we say about that ? "
   ]
  },
  {
   "cell_type": "markdown",
   "metadata": {
    "slideshow": {
     "slide_type": "subslide"
    }
   },
   "source": [
    "### In trying to discover metrics of \"code beauty\" it's interesting to study composition in the visual arts"
   ]
  },
  {
   "cell_type": "markdown",
   "metadata": {
    "slideshow": {
     "slide_type": "skip"
    }
   },
   "source": [
    "in cinematography \n",
    "\n",
    "> composition : how the **elements** inside the frame are **positioned** and **exhibited** to the viewer; a skill of knowing **what to show** and **what not to show** as well as **how to show it** or **how not to show it**\n",
    "\n"
   ]
  },
  {
   "cell_type": "markdown",
   "metadata": {
    "slideshow": {
     "slide_type": "fragment"
    }
   },
   "source": [
    "![gun_fight](pics/gunfight.gif)"
   ]
  },
  {
   "cell_type": "markdown",
   "metadata": {
    "slideshow": {
     "slide_type": "subslide"
    }
   },
   "source": [
    "### most of the aplications of composition revolve around *visual necessity*, checkboxes that need to be checked\n",
    "\n",
    "|cinema|arbitrary programming example|\n",
    "|------|-----------------------------|\n",
    "|enough lighting|indent your code even when not mandated by the language|\n",
    "|don't block important visual information|break at column 80|"
   ]
  },
  {
   "cell_type": "markdown",
   "metadata": {
    "slideshow": {
     "slide_type": "subslide"
    }
   },
   "source": [
    "### visual artists have realized successful compositional templates that are used up to this day"
   ]
  },
  {
   "cell_type": "markdown",
   "metadata": {
    "slideshow": {
     "slide_type": "subslide"
    }
   },
   "source": [
    "* the rule of thirds\n",
    "\n",
    "![rule_3](pics/rule_of_thirds.gif)"
   ]
  },
  {
   "cell_type": "markdown",
   "metadata": {
    "slideshow": {
     "slide_type": "subslide"
    }
   },
   "source": [
    "* the golden ratio\n",
    "\n",
    "![golden](pics/golden_ratio.jpg)"
   ]
  },
  {
   "cell_type": "markdown",
   "metadata": {
    "slideshow": {
     "slide_type": "subslide"
    }
   },
   "source": [
    "* triangular composition\n",
    "\n",
    "![trig](pics/triangular_composition.gif)"
   ]
  },
  {
   "cell_type": "markdown",
   "metadata": {
    "slideshow": {
     "slide_type": "subslide"
    }
   },
   "source": [
    "### but that what composition offers is a way to tell stories with one single shot"
   ]
  },
  {
   "cell_type": "markdown",
   "metadata": {
    "slideshow": {
     "slide_type": "subslide"
    }
   },
   "source": [
    "### how composition works\n",
    "\n",
    "### Objective 1  : \n",
    "\n",
    "* attract the audience's attention (what should the viewer be looking at and how we get them to look at it)"
   ]
  },
  {
   "cell_type": "markdown",
   "metadata": {
    "slideshow": {
     "slide_type": "subslide"
    }
   },
   "source": [
    "**compositional influencers** : \n",
    "\n",
    "* geometry\n",
    "* diagonals\n",
    "* framing \n",
    "* eyeline of subjects\n",
    "* focus\n",
    "* scale\n",
    "* subject close to light \n",
    "* guiding lines\n"
   ]
  },
  {
   "cell_type": "markdown",
   "metadata": {
    "slideshow": {
     "slide_type": "subslide"
    }
   },
   "source": [
    "```cpp\n",
    "/****************************/\n",
    "static void f(void)\n",
    "/****************************/\n",
    "{\n",
    "    return; \n",
    "}\n",
    "\n",
    "\n",
    "struct window\n",
    "{\n",
    "    // ----------------------------------\n",
    "    window() = default; \n",
    "    ~window() = default; \n",
    "    // ----------------------------------\n",
    "    void scale(double factor)\n",
    "    {\n",
    "        perform_scaling(data, factor); \n",
    "    }\n",
    "    void manage(Action *action)\n",
    "    {\n",
    "        perform_action(data, action)\n",
    "    }\n",
    "    // ----------------------------------\n",
    "private:\n",
    "    HANDLE data; \n",
    "}; \n",
    "```"
   ]
  },
  {
   "cell_type": "markdown",
   "metadata": {
    "slideshow": {
     "slide_type": "skip"
    }
   },
   "source": [
    "we set aside the function of creating **subtext** e.g. frame within a frame \n",
    "\n",
    "![frame_in](pics/frame_in_frame.gif)"
   ]
  },
  {
   "cell_type": "markdown",
   "metadata": {
    "slideshow": {
     "slide_type": "subslide"
    }
   },
   "source": [
    "### Objective 2\n",
    "\n",
    "* Show which subject has **\"control of the scene\"**"
   ]
  },
  {
   "cell_type": "markdown",
   "metadata": {
    "slideshow": {
     "slide_type": "skip"
    }
   },
   "source": [
    "---\n",
    "\n",
    "composition is a tool to : \n",
    "\n",
    "* display the **power dynamics** within an image\n",
    "* translate visually the **degree of control** that characters hold in a scene through the positioning of objects"
   ]
  },
  {
   "cell_type": "markdown",
   "metadata": {
    "slideshow": {
     "slide_type": "subslide"
    }
   },
   "source": [
    "### the two types of control"
   ]
  },
  {
   "cell_type": "markdown",
   "metadata": {
    "slideshow": {
     "slide_type": "fragment"
    }
   },
   "source": [
    "* **artificial control** \n",
    "\n",
    "![artificial_control](pics/artificial_control.gif)"
   ]
  },
  {
   "cell_type": "markdown",
   "metadata": {
    "slideshow": {
     "slide_type": "subslide"
    }
   },
   "source": [
    "* **primal control** \n",
    "\n",
    "![rearrangement of primal control](pics/primal_control.gif)"
   ]
  },
  {
   "cell_type": "markdown",
   "metadata": {
    "slideshow": {
     "slide_type": "skip"
    }
   },
   "source": [
    "### domination of the frame requires that you strip away all the detail and focus on a single element\n",
    "\n",
    "![frame_dom](pics/frame_domination.gif)"
   ]
  },
  {
   "cell_type": "markdown",
   "metadata": {
    "slideshow": {
     "slide_type": "subslide"
    }
   },
   "source": [
    "```cpp\n",
    "switch(count % 8) {\n",
    "            case 0: do { *to++ = *from++;\n",
    "                        case 7: *to++ = *from++;\n",
    "                        case 6: *to++ = *from++;\n",
    "                        case 5: *to++ = *from++;\n",
    "                        case 4: *to++ = *from++;\n",
    "                        case 3: *to++ = *from++;\n",
    "                        case 2: *to++ = *from++;\n",
    "                        case 1: *to++ = *from++;\n",
    "                    } while(--n > 0);\n",
    "        }\n",
    "        \n",
    "std::transform(r1, r2, functor);\n",
    "\n",
    "std::copy(v1, v2); \n",
    "```"
   ]
  },
  {
   "cell_type": "markdown",
   "metadata": {
    "slideshow": {
     "slide_type": "subslide"
    }
   },
   "source": [
    "### SO ...\n",
    "\n",
    "![vlad](pics/vlad_reduce.png)"
   ]
  },
  {
   "cell_type": "markdown",
   "metadata": {
    "slideshow": {
     "slide_type": "subslide"
    }
   },
   "source": [
    "<h3>\n",
    "<pre style=\"background:#FFFFFF;color:#000\">\n",
    "<span style=\"color:#99cf50\">std::accumulate</span>(\n",
    "    v.begin(), v.end(), std::back_inserter(vp), \n",
    "    <span style=\"color:#B900B9\">filter(pred)(map(fn)(output_rf))</span>\n",
    ");\n",
    "</pre>\n",
    "</h3>"
   ]
  },
  {
   "cell_type": "markdown",
   "metadata": {
    "slideshow": {
     "slide_type": "slide"
    }
   },
   "source": [
    "<a id='c_1z_folds'></a>\n",
    "# 4. C++1z fold expressions\n",
    "\n",
    "[-](#contents)"
   ]
  },
  {
   "cell_type": "markdown",
   "metadata": {
    "slideshow": {
     "slide_type": "subslide"
    }
   },
   "source": [
    "### C++ expressed the reduction logic through the standard library function [`std::accumulate`](http://en.cppreference.com/w/cpp/algorithm/accumulate)"
   ]
  },
  {
   "cell_type": "markdown",
   "metadata": {
    "slideshow": {
     "slide_type": "fragment"
    }
   },
   "source": [
    "* highly underestimated "
   ]
  },
  {
   "cell_type": "markdown",
   "metadata": {
    "slideshow": {
     "slide_type": "fragment"
    }
   },
   "source": [
    "* decayed to the mundane task of summing (hence its dwelling in `<numeric>`)"
   ]
  },
  {
   "cell_type": "markdown",
   "metadata": {
    "slideshow": {
     "slide_type": "fragment"
    }
   },
   "source": [
    "* cannot express:\n",
    "    * folding in compile time contexts\n",
    "    * the pure expression logic underlying reductions \n",
    "    * handle variadicness of input"
   ]
  },
  {
   "cell_type": "markdown",
   "metadata": {
    "slideshow": {
     "slide_type": "subslide"
    }
   },
   "source": [
    "C++17 ammends this by adding support for fold expressions (Sutton and Smith). According to the related [proposal](http://www.open-std.org/jtc1/sc22/wg21/docs/papers/2014/n4295.html): \n",
    "\n",
    "> ### A fold expression performs a fold of a template parameter pack ([temp.variadic]) over a binary operator."
   ]
  },
  {
   "cell_type": "markdown",
   "metadata": {
    "slideshow": {
     "slide_type": "subslide"
    }
   },
   "source": [
    "## 4.1 Syntax"
   ]
  },
  {
   "cell_type": "markdown",
   "metadata": {
    "slideshow": {
     "slide_type": "subslide"
    }
   },
   "source": [
    "Let `\"e\"` $= e_1, e_2, \\dotso, e_n$ be an expression that contains an unexpanded parameter pack and $\\otimes$ the fold operator, then fold expressions have the form:\n",
    "\n",
    "- Unary **left folds**\n",
    "\n",
    "    $(\\dotso\\; \\otimes\\; e)$ \n",
    "\n",
    "\n",
    "which expands to $ (((e_1 \\otimes e_2) \\dotso ) \\otimes e_n)$ \n",
    "\n",
    "---"
   ]
  },
  {
   "cell_type": "markdown",
   "metadata": {
    "slideshow": {
     "slide_type": "fragment"
    }
   },
   "source": [
    "- Unary **right folds **\n",
    "\n",
    "    $(e\\; \\otimes\\; \\dotso)$\n",
    "    \n",
    "which expands to $(e_1 \\otimes ( \\dotso (e_{n-1} \\otimes e_n)))$"
   ]
  },
  {
   "cell_type": "markdown",
   "metadata": {
    "slideshow": {
     "slide_type": "subslide"
    }
   },
   "source": [
    "If we add a **non pack argument** on the _dots' side_ of each of the above we get their binary versions that have identical expansion behavior: \n",
    "\n",
    "- Binary **left folds**\n",
    "\n",
    "$(a \\otimes\\; \\dotso\\; \\otimes\\; e)$ \n",
    "\n",
    "which expands to $ (((a \\otimes e_1) \\dotso ) \\otimes e_n)$ \n",
    "    \n",
    "---"
   ]
  },
  {
   "cell_type": "markdown",
   "metadata": {
    "slideshow": {
     "slide_type": "fragment"
    }
   },
   "source": [
    "- Binary **right folds **\n",
    "\n",
    "$(e\\; \\otimes\\; \\dotso\\; \\otimes\\; a)$\n",
    "    \n",
    "which expands to $(e_1 \\otimes ( \\dotso (e_n \\otimes a)))$"
   ]
  },
  {
   "cell_type": "markdown",
   "metadata": {
    "slideshow": {
     "slide_type": "subslide"
    }
   },
   "source": [
    "The \"<big>⊗</big>\" operator can be one of:\n",
    "\n",
    "```cpp\n",
    "+  -  *  /  %  ^  &  |  ~  =  <  >  <<  >>\n",
    "+=  -=  *=  /=  %=  ^=  &=  |=  <<=  >>=\n",
    "==  !=  <=  >=  &&  ||  ,  .*  ->*\n",
    "```"
   ]
  },
  {
   "cell_type": "markdown",
   "metadata": {
    "slideshow": {
     "slide_type": "subslide"
    }
   },
   "source": [
    "## 4.2 Identity elements"
   ]
  },
  {
   "cell_type": "markdown",
   "metadata": {
    "slideshow": {
     "slide_type": "fragment"
    }
   },
   "source": [
    "The fold of an empty parameter pack evaluates to a specific value. The choice of value depends on the operator. The set of operators and their empty expansions are in the table below.\n",
    "\n",
    "| Operator | Value when parameter pack is empty |\n",
    "|----------|------------------------------------|\n",
    "|    $*$   |                  1                 |\n",
    "|    $+$   |                  0                 |\n",
    "|    $&$   |                 -1                 |\n",
    "|  $\\mid$  |                  0                 |\n",
    "|   $&&$   |                true                |\n",
    "|   $\\parallel$   |                false               |\n",
    "|    $,$   |               void()               |\n",
    "\n",
    "If a fold of an empty parameter pack is produced for any other operator, the program is ill-formed"
   ]
  },
  {
   "cell_type": "markdown",
   "metadata": {
    "slideshow": {
     "slide_type": "subslide"
    }
   },
   "source": [
    "## 4.3 Examples"
   ]
  },
  {
   "cell_type": "markdown",
   "metadata": {
    "slideshow": {
     "slide_type": "subslide"
    }
   },
   "source": [
    "```cpp\n",
    "/// Summing the contents of an array at compile time\n",
    "\n",
    "#include <array>\n",
    "#include <utility>\n",
    "#include <iostream>\n",
    "\n",
    "using namespace std; \n",
    "\n",
    "namespace detail\n",
    "{\n",
    "    template <class... Ts>\n",
    "    constexpr auto sum_(Ts&&... args)\n",
    "    {\n",
    "        return (args + ...);\n",
    "    }\n",
    " \n",
    "    template <typename T, size_t N, size_t... Is>\n",
    "    constexpr T sum_impl(array<T, N> const &arr, index_sequence<Is...>)\n",
    "    {\n",
    "        return sum_(get<Is>(arr)...);\n",
    "    }\n",
    "}\n",
    " \n",
    "template <typename T, size_t N>\n",
    "constexpr T sum(array<T, N> const &arr)\n",
    "{\n",
    "    return detail::sum_impl(arr, make_index_sequence<N>{});\n",
    "} \n",
    " \n",
    "int main()\n",
    "{\n",
    "    constexpr array<int, 4> arr1{ { 1, 1, 2, 3 } };\n",
    "    constexpr array<int, 0> arr2{ };\n",
    "    \n",
    "    cout << integral_constant<int, sum(arr1)>{} << endl;\n",
    "    cout << integral_constant<int, sum(arr2)>{} << endl;\n",
    "}\n",
    "```"
   ]
  },
  {
   "cell_type": "markdown",
   "metadata": {
    "slideshow": {
     "slide_type": "fragment"
    }
   },
   "source": [
    "---\n",
    "\n",
    "Output : ['7', '0']"
   ]
  },
  {
   "cell_type": "markdown",
   "metadata": {
    "slideshow": {
     "slide_type": "subslide"
    }
   },
   "source": [
    "```cpp\n",
    "// iterating over different types\n",
    "\n",
    "#include <iostream>\n",
    "\n",
    "#define fw(...) ::std::forward<decltype(__VA_ARGS__)>(__VA_ARGS__)\n",
    "\n",
    "struct Window {\n",
    "    void show() { std::cout << \"showing Window\\n\"; }\n",
    "} win;\n",
    "\n",
    "struct Widget {\n",
    "    void show(){ std::cout << \"showing Widget\\n\"; }\n",
    "} wid;\n",
    "\n",
    "struct Toolbar {\n",
    "    void show(){ std::cout << \"showing Toolbar\\n\"; }\n",
    "} tlb;\n",
    "\n",
    "int main()\n",
    "{\n",
    "    auto printer = [](auto&&... args) { (fw(args).show(), ...); };\n",
    "    \n",
    "    printer(win, wid, tlb);\n",
    "    printer(); // remember void() ? \n",
    "}\n",
    "```"
   ]
  },
  {
   "cell_type": "markdown",
   "metadata": {
    "slideshow": {
     "slide_type": "fragment"
    }
   },
   "source": [
    "---\n",
    "\n",
    "Output: ['showing Window', 'showing Widget', 'showing Toolbar']"
   ]
  },
  {
   "cell_type": "markdown",
   "metadata": {
    "slideshow": {
     "slide_type": "subslide"
    }
   },
   "source": [
    "```cpp\n",
    "// an on_each lambda\n",
    "\n",
    "#include <iostream>\n",
    "\n",
    "struct Printer \n",
    "{\n",
    "    template <class T> \n",
    "    void operator()(T&& arg) { std::cout << arg; }\n",
    "};\n",
    "\n",
    "int main()\n",
    "{\n",
    "    auto on_each = [](auto&& fun, auto&&... args) \n",
    "    { \n",
    "        (..., std::invoke(fw(fun), fw(args)));\n",
    "    };\n",
    "    \n",
    "    on_each(Printer{}, 0.5, \" a loaf is better than \", 0, \" bread\", '\\n');\n",
    "}\n",
    "```"
   ]
  },
  {
   "cell_type": "markdown",
   "metadata": {
    "slideshow": {
     "slide_type": "fragment"
    }
   },
   "source": [
    "---\n",
    "\n",
    "Output: ['0.5 a loaf is better than 0 bread']"
   ]
  },
  {
   "cell_type": "markdown",
   "metadata": {
    "slideshow": {
     "slide_type": "subslide"
    }
   },
   "source": [
    "```cpp\n",
    "// a modern summing style - showcasing the unfolding properties of std::apply\n",
    "        \n",
    "#include <array>\n",
    "#include <tuple>\n",
    "#include <utility>\n",
    "#include <iostream>\n",
    "#include <type_traits>\n",
    "\n",
    "namespace cpp17\n",
    "{\n",
    "    template< class F, class... ArgTypes>\n",
    "    std::result_of_t<F&&(ArgTypes&&...)> invoke(F&& f, ArgTypes&&... args);\n",
    "    \n",
    "    namespace detail \n",
    "    {\n",
    "        template <class F, class Tuple, std::size_t... I>\n",
    "        constexpr decltype(auto) apply_impl(\n",
    "            F&& f, Tuple&& t, std::index_sequence<I...>) \n",
    "        {\n",
    "#if 1\n",
    "            return (std::forward<F>(f))(std::get<I>(std::forward<Tuple>(t))...);\n",
    "#else\n",
    "            return invoke(\n",
    "                std::forward<F>(f), std::get<I>(std::forward<Tuple>(t))...);\n",
    "#endif // TODO: Elaborate on the inconsistency of invoke\n",
    "        }\n",
    "    }  \n",
    "\n",
    "    template <class F, class Tuple>\n",
    "    constexpr decltype(auto) apply(F&& f, Tuple&& t)\n",
    "    {\n",
    "        return detail::apply_impl(\n",
    "            std::forward<F>(f), \n",
    "            std::forward<Tuple>(t),\n",
    "            std::make_index_sequence<std::tuple_size<std::decay_t<Tuple>>{}>{});\n",
    "    }\n",
    "}\n",
    "\n",
    "struct Summer \n",
    "{\n",
    "    template <class... Ts> \n",
    "    constexpr auto operator()(Ts&&... args) \n",
    "    { \n",
    "        return (args + ...); \n",
    "    }\n",
    "};\n",
    "\n",
    "int main()\n",
    "{\n",
    "    constexpr std::array<int, 4>        arr{ { 1, 2, 3 } };\n",
    "    constexpr std::tuple<int, int, int> tup{   1, 2, 3   }; \n",
    "    \n",
    "    std::cout << \"Array sum : \" << cpp17::apply(Summer{}, arr) << std::endl;\n",
    "    std::cout << \"Tuple sum : \" << cpp17::apply(Summer{}, tup) << std::endl;\n",
    "}\n",
    "```"
   ]
  },
  {
   "cell_type": "markdown",
   "metadata": {
    "slideshow": {
     "slide_type": "fragment"
    }
   },
   "source": [
    "---\n",
    "\n",
    "Output: ['Array sum : 6', 'Tuple sum : 6']"
   ]
  },
  {
   "cell_type": "markdown",
   "metadata": {
    "slideshow": {
     "slide_type": "subslide"
    }
   },
   "source": [
    "once upon a time\n",
    "\n",
    "---\n",
    "\n",
    "```cpp\n",
    "// mp_plus -----------------------------------------------------------\n",
    "template <class... T>\n",
    "struct mp_plus_impl;\n",
    "\n",
    "template <class... T>\n",
    "using mp_plus = typename mp_plus_impl<T...>::type;\n",
    "\n",
    "template <>\n",
    "struct mp_plus_impl<>\n",
    "{\n",
    "\tusing type = std::integral_constant<int, 0>;\n",
    "};\n",
    "\n",
    "template <class T1, class... T>\n",
    "struct mp_plus_impl<T1, T...>\n",
    "{\n",
    "\tstatic constexpr auto _v = T1::value + mp_plus<T...>::value;\n",
    "\n",
    "\tusing type =\n",
    "\t    std::integral_constant<typename std::remove_const<decltype(_v)>::type,\n",
    "\t                           _v>;\n",
    "};\n",
    "\n",
    "template <class T1, class T2, class T3, class T4, class T5, class T6, class T7,\n",
    "          class T8, class T9, class T10, class... T>\n",
    "struct mp_plus_impl<T1, T2, T3, T4, T5, T6, T7, T8, T9, T10, T...>\n",
    "{\n",
    "\tstatic constexpr auto _v = T1::value + T2::value + T3::value + T4::value +\n",
    "\t                           T5::value + T6::value + T7::value + T8::value +\n",
    "\t                           T9::value + T10::value + mp_plus<T...>::value;\n",
    "\n",
    "\tusing type =\n",
    "\t    std::integral_constant<typename std::remove_const<decltype(_v)>::type,\n",
    "\t                           _v>;\n",
    "};\n",
    "\n",
    "// mp_count ----------------------------------------------------------\n",
    "template <class L, class V>\n",
    "struct mp_count_impl;\n",
    "\n",
    "template <template <class...> class L, class... T, class V>\n",
    "struct mp_count_impl<L<T...>, V>\n",
    "{\n",
    "\tusing type = mp_plus<std::is_same<T, V>...>;\n",
    "};\n",
    "\n",
    "template <class L, class V>\n",
    "using mp_count = typename mp_count_impl<L, V>::type;\n",
    "\n",
    "// bool_constant -----------------------------------------------------\n",
    "template <bool B>\n",
    "using bool_constant = std::integral_constant<bool, B>;\n",
    "\n",
    "// mp_contains -------------------------------------------------------\n",
    "template <class L, class V>\n",
    "using mp_contains = bool_constant<mp_count<L, V>::value != 0>;\n",
    "```"
   ]
  },
  {
   "cell_type": "markdown",
   "metadata": {
    "slideshow": {
     "slide_type": "subslide"
    }
   },
   "source": [
    "```cpp\n",
    "// test whether H exists in Ts \n",
    "template <class H, class... Ts>\n",
    "constexpr bool h_in_ts = (... || std::is_same<H, Ts>::value);\n",
    "```"
   ]
  },
  {
   "cell_type": "markdown",
   "metadata": {
    "slideshow": {
     "slide_type": "subslide"
    }
   },
   "source": [
    "```cpp\n",
    "// count results of type queries\n",
    "\n",
    "#include <type_traits>\n",
    "#include <iostream>\n",
    "\n",
    "using namespace std; \n",
    "\n",
    "// count the times a predicate P is satisfied in a typelist L\n",
    "template <template<class> class P, class... L>\n",
    "constexpr size_t count_if = (P<L>::value + ...); \n",
    "\n",
    "// count the occurences of a type V in a typelist L\n",
    "template <class V, class... L>\n",
    "constexpr size_t count = (is_same<V, L>::value + ...); \n",
    "\n",
    "int main()\n",
    "{\n",
    "    cout << count_if <is_integral, float, unsigned, int, double, long> << endl;\n",
    "    cout << count<float, unsigned, int, double, float> << endl;\n",
    "}\n",
    "```"
   ]
  },
  {
   "cell_type": "markdown",
   "metadata": {
    "slideshow": {
     "slide_type": "fragment"
    }
   },
   "source": [
    "---\n",
    "\n",
    "Output: ['3', '1']"
   ]
  },
  {
   "cell_type": "markdown",
   "metadata": {
    "slideshow": {
     "slide_type": "subslide"
    }
   },
   "source": [
    "```cpp\n",
    "// assign to a given std::array index and beyond, from a list of arguments\n",
    "\n",
    "#include <array>\n",
    "#include <utility>\n",
    "#include <iostream>\n",
    "\n",
    "using namespace std; \n",
    "\n",
    "template <class T, size_t N>\n",
    "struct A\n",
    "{\n",
    "\tarray<T, N> arr;\n",
    "    \n",
    "    template <class... Ts, size_t... Is>\n",
    "    void set_from_list(size_t offset, Ts&&... vals)\n",
    "    {\n",
    "        return set_from_list(\n",
    "            offset, index_sequence_for<Ts...>{}, forward<Ts>(vals)...); \n",
    "    }\n",
    "    \n",
    "private:\n",
    "    template <class... Ts, size_t... Is>\n",
    "    void set_from_list(size_t offset, index_sequence<Is...>&&, Ts&&... vals)\n",
    "    {\n",
    "        ((arr[offset + Is] = vals), ...); \n",
    "        //             ^^    ^^^^\n",
    "        // two or more pack aruments can exist in the expression\n",
    "        // provided they are of the same **cardinality**\n",
    "    }\n",
    "};\n",
    "\n",
    "int main()\n",
    "{\n",
    "    A<int, 5> a{{{1, 2, 3, 4, 5}}};\n",
    " \n",
    "    // the length of the list must equal the length of remaining array elements\n",
    "    a.set_from_list(2, 6, 6, 6); \n",
    "    \n",
    "    printf(\"{%d, %d, %d, %d, %d}\", \n",
    "        get<0>(a.arr), get<1>(a.arr), \n",
    "        get<2>(a.arr), get<3>(a.arr), get<4>(a.arr)); \n",
    "}\n",
    "```"
   ]
  },
  {
   "cell_type": "markdown",
   "metadata": {
    "slideshow": {
     "slide_type": "fragment"
    }
   },
   "source": [
    "---\n",
    "\n",
    "Output: ['{1, 2, 6, 6, 6}']"
   ]
  },
  {
   "cell_type": "markdown",
   "metadata": {
    "slideshow": {
     "slide_type": "slide"
    }
   },
   "source": [
    "<a id='arbitrary_folds'></a>\n",
    "# 5. arbitrary fold expressions\n",
    "\n",
    "[-](#contents)"
   ]
  },
  {
   "cell_type": "markdown",
   "metadata": {
    "slideshow": {
     "slide_type": "subslide"
    }
   },
   "source": [
    "### A somewhat limiting feature of c++ fold expressions, is that they’re only available for certain operators.\n"
   ]
  },
  {
   "cell_type": "markdown",
   "metadata": {
    "slideshow": {
     "slide_type": "fragment"
    }
   },
   "source": [
    "### ... so doing\n",
    "\n",
    "$(\\dotso\\; \\otimes\\; e)$ \n",
    "\n",
    "### is not allowed for arbitrary \"callables\"."
   ]
  },
  {
   "cell_type": "markdown",
   "metadata": {
    "slideshow": {
     "slide_type": "fragment"
    }
   },
   "source": [
    "### [`boost.reduce`](http://rrsd.com/blincubator.com/bi_library/reduce-2/?gform_post_id=1572) (boost library incubator) solves this. Here's how"
   ]
  },
  {
   "cell_type": "markdown",
   "metadata": {
    "slideshow": {
     "slide_type": "subslide"
    }
   },
   "source": [
    "## 5.1 Creating arbitrary fold expressions\n",
    "\n",
    "### Haskell’s fold diagram bears a strong resemblance to Veldhuizen’s expression parse trees: \n",
    "\n",
    "![foldr_diagram](pics/foldr_diagram.png)"
   ]
  },
  {
   "cell_type": "markdown",
   "metadata": {
    "slideshow": {
     "slide_type": "fragment"
    }
   },
   "source": [
    "### > create add-hoc expression templates for arbitrary operators using thin wrapper types that can be parametrized by the operant / operator pair"
   ]
  },
  {
   "cell_type": "markdown",
   "metadata": {
    "slideshow": {
     "slide_type": "subslide"
    }
   },
   "source": [
    "a wrapper type that apart from data, records the type of the operant we want to use:\n",
    "\n",
    "---\n",
    "\n",
    "```cpp\n",
    "template <class F, class T>\n",
    "struct XX\n",
    "{\n",
    "    T data;\n",
    " \n",
    "    template <class D>\n",
    "    constexpr XX(D&& data)\n",
    "        : data(std::forward<D>(data))\n",
    "    { }\n",
    " \n",
    "    constexpr T give() const\n",
    "    {\n",
    "        return data;\n",
    "    }\n",
    "};\n",
    "```"
   ]
  },
  {
   "cell_type": "markdown",
   "metadata": {
    "slideshow": {
     "slide_type": "subslide"
    }
   },
   "source": [
    "create an expression class that records the operants and the type of the operation we want to perform\n",
    "\n",
    "---\n",
    "\n",
    "```cpp\n",
    "template <class L, class F, class R>\n",
    "struct YY\n",
    "{\n",
    "    L l;\n",
    "    R r;\n",
    " \n",
    "    template <class LL, class RR>\n",
    "    constexpr YY(LL&& l, RR&& r)\n",
    "        : l(std::forward<LL>(l))\n",
    "        , r(std::forward<RR>(r))\n",
    "    { }\n",
    " \n",
    "    constexpr auto give() const\n",
    "    {\n",
    "        return F{}(l.give(), r.give());\n",
    "    }\n",
    "};\n",
    "```"
   ]
  },
  {
   "cell_type": "markdown",
   "metadata": {
    "slideshow": {
     "slide_type": "subslide"
    }
   },
   "source": [
    "We’ll be using the + operator in our ad-hoc expression templates so we overload it to perform expression parsing for our wrapper class (the two versions are created in way that satisfies the types involved in a left to right evaluation)\n",
    "\n",
    "---\n",
    "\n",
    "```cpp\n",
    "template <class F, class R, class T>\n",
    "constexpr auto operator+(XX<F, T> const& lhs, R const& rhs)\n",
    "{\n",
    "    return YY< XX<F, T>, F, R >(lhs, rhs);\n",
    "}\n",
    " \n",
    "template <class F, class T1, class T2, class R>\n",
    "constexpr auto operator+(YY<T1, F, T2> const& lhs, R const& rhs)\n",
    "{\n",
    "    return YY< YY<T1, F, T2>, F, R >(lhs, rhs);\n",
    "}\n",
    "```"
   ]
  },
  {
   "cell_type": "markdown",
   "metadata": {
    "slideshow": {
     "slide_type": "subslide"
    }
   },
   "source": [
    "Finally the interface functions use the above machinery\n",
    "\n",
    "---\n",
    "\n",
    "```cpp\n",
    "namespace detail\n",
    "{\n",
    "    template <class... Ts>\n",
    "    constexpr auto _foldl(Ts&&... args)\n",
    "    {\n",
    "        return (... + args);\n",
    "    }\n",
    " \n",
    "    template <class... Ts>\n",
    "    constexpr auto _foldr(Ts&&... args)\n",
    "    {\n",
    "        return (args + ...);\n",
    "    }\n",
    "}\n",
    " \n",
    "template <class F, class... Ts>\n",
    "constexpr decltype(auto) foldl(Ts&&... args)\n",
    "{\n",
    "    return detail::_foldl(XX<F, Ts>(args)...).give();\n",
    "}\n",
    " \n",
    "template <class F, class... Ts>\n",
    "constexpr decltype(auto) foldr(Ts&&... args)\n",
    "{\n",
    "    return detail::_foldr(XX<F, Ts>(args)...).give();\n",
    "}\n",
    "```\n"
   ]
  },
  {
   "cell_type": "markdown",
   "metadata": {
    "slideshow": {
     "slide_type": "subslide"
    }
   },
   "source": [
    "`foldl` and a `foldr` function that, much like the `Haskell` counterparts, can be parameterized by the type of a binary operator\n",
    "\n",
    "---\n",
    "\n",
    "```cpp\n",
    "// concatenate the stringification of sequence elements\n",
    "foldl<Join>(\n",
    "    1,  \n",
    "    std::string(\" bird in the hand, is worth \"), \n",
    "    10, \n",
    "    std::string(\" in the bush\"));\n",
    " \n",
    "// create a vector out of a sequence\n",
    "auto k = foldl<Vettore>(1, 2, 30, 12);\n",
    " \n",
    "// find the maximum element of a sequence\n",
    "foldl<Max>(1, 20, 3, 5);\n",
    "```"
   ]
  },
  {
   "cell_type": "markdown",
   "metadata": {
    "slideshow": {
     "slide_type": "subslide"
    }
   },
   "source": [
    "syntactic sugar\n",
    "\n",
    "---\n",
    "\n",
    "```cpp\n",
    "template <class F, class T>\n",
    "XX<F, T> Op(T const& val)\n",
    "{\n",
    "    return XX<F, T>(val); \n",
    "}\n",
    "\n",
    "// now this is possible\n",
    "(Op<Max>(args) + ...);\n",
    "```"
   ]
  },
  {
   "cell_type": "markdown",
   "metadata": {
    "slideshow": {
     "slide_type": "subslide"
    }
   },
   "source": [
    "## 5.2 Becoming move aware\n",
    "\n",
    "obviously we don’t have to make a copy of our (expression) data every time we build such an expression node "
   ]
  },
  {
   "cell_type": "markdown",
   "metadata": {
    "slideshow": {
     "slide_type": "subslide"
    }
   },
   "source": [
    "The type `O_x` is winking the right (to our perspective) eye which according to the Taranki Herald guide to eye flirtation means “I love you”\n",
    "\n",
    "---\n",
    "\n",
    "```cpp\n",
    "template <class F, class T>\n",
    "struct O_x\n",
    "{\n",
    "\tT& mem;\n",
    "\n",
    "\tconstexpr O_x(T& data) : mem(data) {}\n",
    "\n",
    "\tconstexpr decltype(auto) give()\n",
    "\t{\n",
    "\t\treturn mem;\n",
    "\t} \n",
    "\tconstexpr decltype(auto) clone()\n",
    "\t{\n",
    "\t\treturn mem;\n",
    "\t} \n",
    "};\n",
    "```\n",
    "\n",
    "---\n",
    "\n",
    "when using emoticons remember\n",
    "\n",
    "* Reserved in any scope, including for use as implementation macros:\n",
    "    * identifiers beginning with an underscore followed immediately by an uppercase letter\n",
    "    * identifiers containing adjacent underscores (or \"double underscore\")\n",
    "* Reserved in the global namespace:\n",
    "    *identifiers beginning with an underscore\n",
    "* Also, everything in the std namespace is reserved. (You are allowed to add template specializations, though.)"
   ]
  },
  {
   "cell_type": "markdown",
   "metadata": {
    "slideshow": {
     "slide_type": "subslide"
    }
   },
   "source": [
    "left and right fold epxression node types should be discrete for the operators to be able to correctly build the expression tree.\n",
    "\n",
    "---\n",
    "\n",
    "```cpp\n",
    "template <class F, class T>\n",
    "struct O_x<F, T&&>\n",
    "{\n",
    "\tT mem;\n",
    "\n",
    "\tconstexpr O_x(T&& data) : mem(std::move(data)) {}\n",
    "\n",
    "\tconstexpr decltype(auto) give()\n",
    "\t{\n",
    "\t\treturn (mem);\n",
    "\t} \n",
    "\tconstexpr decltype(auto) clone()\n",
    "\t{\n",
    "\t\treturn mem;\n",
    "\t}\n",
    "};\n",
    "```"
   ]
  },
  {
   "cell_type": "markdown",
   "metadata": {
    "slideshow": {
     "slide_type": "skip"
    }
   },
   "source": [
    "### It goes without saying that we have to sprinkle `std::move(...)` and `std::forward(...)` all over the place"
   ]
  },
  {
   "cell_type": "markdown",
   "metadata": {
    "slideshow": {
     "slide_type": "subslide"
    }
   },
   "source": [
    "* Forwarding references need to be used (evaluated, passed to another function, called) with `std::forward` to preserve their value category."
   ]
  },
  {
   "cell_type": "markdown",
   "metadata": {
    "slideshow": {
     "slide_type": "fragment"
    }
   },
   "source": [
    "* `std::move` is like playing catch, it doesn’t work if there’s nobody on the other side. No matter how “move aware” a library is, it’ll end up copying stuff when handling non-moveable types."
   ]
  },
  {
   "cell_type": "markdown",
   "metadata": {
    "slideshow": {
     "slide_type": "fragment"
    }
   },
   "source": [
    "* Moving from an object places it in a valid but unspecified state so be really thorough and explicit; even when creating dangling references or invalid state things may appear to work and that’s the worst kind of bug, the kind that bites when you’ve moved on.\n"
   ]
  },
  {
   "cell_type": "markdown",
   "metadata": {
    "slideshow": {
     "slide_type": "slide"
    }
   },
   "source": [
    "<a id='lazy_evaluation'></a>\n",
    "# 6. lazy evaluation\n",
    "\n",
    "[-](#contents)"
   ]
  },
  {
   "cell_type": "markdown",
   "metadata": {
    "slideshow": {
     "slide_type": "subslide"
    }
   },
   "source": [
    "## 6.1 The Haskell Case\n",
    "\n",
    "<small>_</small>"
   ]
  },
  {
   "cell_type": "markdown",
   "metadata": {
    "slideshow": {
     "slide_type": "subslide"
    }
   },
   "source": [
    "### in a nutshell : \n",
    "\n",
    "### expressions are not evaluated when they are bound to variables, but their evaluation is deferred until their results are needed by other computations. \n",
    "\n",
    "![no_side](pics/haskell_no_side_effects.png)"
   ]
  },
  {
   "cell_type": "markdown",
   "metadata": {
    "slideshow": {
     "slide_type": "subslide"
    }
   },
   "source": [
    "Haskell programs are executed by **evaluating expressions**. The main idea behind evaluation **is function application**. \n",
    "\n",
    "```haskell\n",
    "square x = x*x\n",
    "\n",
    "square (1+2)\n",
    "\n",
    "square (1+2)\n",
    "=> (1+2)*(1+2)\n",
    "\n",
    "(1+2)*(1+2)\n",
    "=> 3*(1+2)\n",
    "=> 3*3\n",
    "=> 9\n",
    "```"
   ]
  },
  {
   "cell_type": "markdown",
   "metadata": {
    "slideshow": {
     "slide_type": "subslide"
    }
   },
   "source": [
    "Unnecessary duplication is avoided by means of **graph reduction**. Every expression can be represented as a graph (the following representation resembles the way a compiler represents expressions with pointers in memory)\n",
    "\n",
    "---\n",
    "\n",
    "![la1](pics/lazy1.png)"
   ]
  },
  {
   "cell_type": "markdown",
   "metadata": {
    "slideshow": {
     "slide_type": "subslide"
    }
   },
   "source": [
    "Every function defined by the programmer corresponds to a **reduction rule**\n",
    "\n",
    "---\n",
    "\n",
    "![la2](pics/lazy2.png)\n",
    "\n",
    "---\n",
    "\n",
    "The square labelled x is a placeholder for a **subgraph**. Sharing a subgraph is the key to avoiding duplication"
   ]
  },
  {
   "cell_type": "markdown",
   "metadata": {
    "slideshow": {
     "slide_type": "subslide"
    }
   },
   "source": [
    "Any subgraph that matches a rule is called a **reducible expression**, or **redex** for short\n",
    "\n",
    "---\n",
    "\n",
    "![la3](pics/lazy3.png)"
   ]
  },
  {
   "cell_type": "markdown",
   "metadata": {
    "slideshow": {
     "slide_type": "fragment"
    }
   },
   "source": [
    "**Normal form** is the state of an expression (graph) \n",
    "\n",
    "* that is finite\n",
    "* w/o redexes\n",
    "* w/o cycles"
   ]
  },
  {
   "cell_type": "markdown",
   "metadata": {
    "slideshow": {
     "slide_type": "subslide"
    }
   },
   "source": [
    "**Constructors** have no reduction rule hence give rise to normal forms\n",
    "\n",
    "---\n",
    "\n",
    "![la4](pics/lazy4.png)"
   ]
  },
  {
   "cell_type": "markdown",
   "metadata": {
    "slideshow": {
     "slide_type": "fragment"
    }
   },
   "source": [
    "```\n",
    "                               ... the list 1 : 2 : 3 : [ ]\n",
    "```"
   ]
  },
  {
   "cell_type": "markdown",
   "metadata": {
    "slideshow": {
     "slide_type": "subslide"
    }
   },
   "source": [
    "We say that a graph is in **WHNF** (weak head normal form) if its topmost node is a constructor\n",
    "\n",
    "---\n",
    "\n",
    "![la5](pics/lazy5.png)\n",
    "\n",
    "---\n",
    "\n",
    "this form is used to express **infinite lists**:\n",
    "\n",
    "```haskell\n",
    "ones = 1 : ones\n",
    "```"
   ]
  },
  {
   "cell_type": "markdown",
   "metadata": {
    "slideshow": {
     "slide_type": "fragment"
    }
   },
   "source": [
    "--- \n",
    "\n",
    "any graph that is not in WHNF is called an **unevaluated expression**"
   ]
  },
  {
   "cell_type": "markdown",
   "metadata": {
    "slideshow": {
     "slide_type": "subslide"
    }
   },
   "source": [
    "### Order of evaluation determines its type\n",
    "\n",
    "* **eager evaluation** : evaluate function arguments to normal form before reducing the function application itself\n",
    "* **lazy evaluation**  : try to reduce the topmost function application first\n",
    "\n",
    "imperative languages use **short circuiting** to emulate lazy evaluation, but this is a *hard coded* language feature"
   ]
  },
  {
   "cell_type": "code",
   "execution_count": 3,
   "metadata": {
    "collapsed": false,
    "slideshow": {
     "slide_type": "fragment"
    }
   },
   "outputs": [
    {
     "data": {
      "text/plain": [
       "['call even for 11', 'call even for 14', 'False', 'True']"
      ]
     },
     "execution_count": 3,
     "metadata": {},
     "output_type": "execute_result"
    }
   ],
   "source": [
    "%%ghc \n",
    "import Debug.Trace\n",
    "\n",
    "and' :: Bool -> Bool -> Bool\n",
    "and' x False = False\n",
    "and' x True  = x\n",
    "\n",
    "or' :: Bool -> Bool -> Bool\n",
    "or' x False = x\n",
    "or' x True  = True\n",
    "\n",
    "even' :: (Integral a) => a -> Bool\n",
    "even' 0 = True\n",
    "even' 1 = False\n",
    "even' x\n",
    "    | x > 0 = even' (x - 2)\n",
    "    | otherwise = even' (x + 2)\n",
    "\n",
    "loop = not loop\n",
    "\n",
    "even_dbg x = trace(\"call even for \" ++ show x) $ even' x\n",
    "\n",
    "main  = do\n",
    "    print $ and' (loop) (even_dbg 11)\n",
    "    print $ or'  (loop) (even_dbg 14)"
   ]
  },
  {
   "cell_type": "markdown",
   "metadata": {
    "slideshow": {
     "slide_type": "subslide"
    }
   },
   "source": [
    "### The AST we get for a valid Haskell program is “evaluated” according to lazy evaluation rules, which most commonly manifest themselves in the following three ways:\n",
    "\n",
    "* arguments to functions are evaluated only when this is necessary for evaluation to continue.\n",
    "* an argument is not necessarily evaluated fully: only the parts that are needed are examined.\n",
    "* an argument is evaluated at most only once. This is done in the implementation by replacing expressions by graphs and calculating over them.\n",
    "* While lazy evaluation has many advantages, its main drawback is that memory usage becomes hard to predict.\n"
   ]
  },
  {
   "cell_type": "markdown",
   "metadata": {
    "slideshow": {
     "slide_type": "subslide"
    }
   },
   "source": [
    "## 6.2 The Python Case"
   ]
  },
  {
   "cell_type": "markdown",
   "metadata": {
    "slideshow": {
     "slide_type": "subslide"
    }
   },
   "source": [
    "### Python is an interpreted language and solely code paths that are executed need be checked in any way so you have lazy evaluation right there\n",
    "\n",
    "(as opposed to C++ not compiling due to type errors in unevaluated contexts)"
   ]
  },
  {
   "cell_type": "markdown",
   "metadata": {
    "slideshow": {
     "slide_type": "fragment"
    }
   },
   "source": [
    "### ... would be an example of how to miss the point on lazy evaluation\n",
    "\n",
    "### Python’s lazy evaluation is not built into expression evaluation, take the following example:"
   ]
  },
  {
   "cell_type": "code",
   "execution_count": 54,
   "metadata": {
    "collapsed": false
   },
   "outputs": [
    {
     "name": "stdout",
     "output_type": "stream",
     "text": [
      "call\n",
      "call\n",
      "call\n"
     ]
    }
   ],
   "source": [
    "def f1(a, b):\n",
    "    print('call')\n",
    "    return a\n",
    "\n",
    "def main():\n",
    "    f1(f1(1, 2), f1(2, 3))\n",
    "\n",
    "main()"
   ]
  },
  {
   "cell_type": "markdown",
   "metadata": {
    "slideshow": {
     "slide_type": "subslide"
    }
   },
   "source": [
    "### So how can Python handle infinite lists, have lazy evaluation and perform calculation on demand ? "
   ]
  },
  {
   "cell_type": "code",
   "execution_count": 58,
   "metadata": {
    "collapsed": false,
    "slideshow": {
     "slide_type": "fragment"
    }
   },
   "outputs": [
    {
     "name": "stdout",
     "output_type": "stream",
     "text": [
      "0\n",
      "1\n",
      "2\n",
      "3\n"
     ]
    }
   ],
   "source": [
    "# the iterator protocol\n",
    "class CustomRange:\n",
    "  def __init__(self, max):\n",
    "    self.max = max\n",
    "  \n",
    "  def __iter__(self):\n",
    "    self.curr = 0\n",
    "    return self\n",
    "\n",
    "  def __next__(self): # this would be next in Python2\n",
    "    numb = self.curr\n",
    "    if self.curr >= self.max:\n",
    "        raise StopIteration\n",
    "    self.curr += 1\n",
    "    return numb\n",
    "\n",
    "for i in CustomRange(4):\n",
    "  print(i) "
   ]
  },
  {
   "cell_type": "code",
   "execution_count": 59,
   "metadata": {
    "collapsed": false,
    "slideshow": {
     "slide_type": "subslide"
    }
   },
   "outputs": [
    {
     "name": "stdout",
     "output_type": "stream",
     "text": [
      "0\n",
      "1\n",
      "2\n",
      "3\n"
     ]
    }
   ],
   "source": [
    "# the generator pattern\n",
    "def custom_range(max):\n",
    "  a = 0\n",
    "  while a < max:\n",
    "    yield a\n",
    "    a += 1\n",
    "\n",
    "for i in CustomRange(4):\n",
    "  print(i) "
   ]
  },
  {
   "cell_type": "markdown",
   "metadata": {
    "slideshow": {
     "slide_type": "fragment"
    }
   },
   "source": [
    "### This pretty cool piece of code can provide “computation on demand” and has endless applications, from mundane ones to mind boggling. We'll be following this paradigm to implement lazy folds"
   ]
  },
  {
   "cell_type": "markdown",
   "metadata": {
    "slideshow": {
     "slide_type": "subslide"
    }
   },
   "source": [
    "## 6.3 The Curious case of C++"
   ]
  },
  {
   "cell_type": "markdown",
   "metadata": {
    "slideshow": {
     "slide_type": "subslide"
    }
   },
   "source": [
    "### C++ is an imperative language and does not implement lazy evaluation"
   ]
  },
  {
   "cell_type": "markdown",
   "metadata": {
    "slideshow": {
     "slide_type": "subslide"
    }
   },
   "source": [
    "### ...\n",
    "\n",
    "* except for *short circuiting*"
   ]
  },
  {
   "cell_type": "markdown",
   "metadata": {
    "slideshow": {
     "slide_type": "fragment"
    }
   },
   "source": [
    "* and template metaprogramming, that allows for things like"
   ]
  },
  {
   "cell_type": "markdown",
   "metadata": {
    "slideshow": {
     "slide_type": "subslide"
    }
   },
   "source": [
    "```cpp\n",
    "#include <utility>\n",
    "#include <iostream>\n",
    "\n",
    "namespace detail\n",
    "{\n",
    "    template <\n",
    "        typename F,\n",
    "        typename... Args,\n",
    "        typename = decltype(std::declval<F&&>()(std::declval<Args&&>()...))\n",
    "    >\n",
    "    std::true_type is_valid_impl(int);\n",
    "\n",
    "    template <typename ...Args>\n",
    "    std::false_type is_valid_impl(...);\n",
    "\n",
    "    template <typename F>\n",
    "    struct is_valid_fun\n",
    "    {\n",
    "        template <typename ...Args>\n",
    "        constexpr decltype(is_valid_impl<F, Args&&...>(int{})) \n",
    "        operator()(Args&&...) const\n",
    "        {\n",
    "            return{};\n",
    "        }\n",
    "    };\n",
    "}\n",
    "\n",
    "template <typename F>\n",
    "constexpr detail::is_valid_fun<F&&> is_valid(F&&)\n",
    "{\n",
    "    return {};\n",
    "}\n",
    "\n",
    "struct example1 { void foo() {} };\n",
    "struct example2 {               };\n",
    "\n",
    "int main()\n",
    "{\n",
    "    auto has_foo = is_valid([](auto&& x) -> decltype(x.foo()) { }); \n",
    "    \n",
    "    std::cout << \"check whether a foo method is present\\n\"; \n",
    "    std::cout << \"For struct example1 : \" << has_foo(example1{}) << std::endl;\n",
    "    std::cout << \"For struct example2 : \" << has_foo(example2{}) << std::endl;\n",
    "}\n",
    "```"
   ]
  },
  {
   "cell_type": "markdown",
   "metadata": {
    "slideshow": {
     "slide_type": "subslide"
    }
   },
   "source": [
    "```cpp\n",
    "#include <iostream>\n",
    "#include <type_traits>\n",
    "#include <utility>\n",
    "\n",
    "namespace lut\n",
    "{\n",
    "\ttemplate <class... Fs>\n",
    "\tstruct overload_set\n",
    "\t{\n",
    "\t};\n",
    "\n",
    "\ttemplate <class F0, class... Fs>\n",
    "\tstruct overload_set<F0, Fs...> : F0, overload_set<Fs...>\n",
    "\t{\n",
    "\t\toverload_set(F0 f0, Fs... fs)\n",
    "\t\t    : F0(std::move(f0))\n",
    "\t\t    , overload_set<Fs...>(std::move(fs)...)\n",
    "\t\t{\n",
    "\t\t}\n",
    "\n",
    "\t\tusing F0::operator();\n",
    "\t\tusing overload_set<Fs...>::operator();\n",
    "\t};\n",
    "\n",
    "\ttemplate <class F>\n",
    "\tstruct overload_set<F> : F\n",
    "\t{\n",
    "\t\toverload_set(F f) : F(std::move(f)){};\n",
    "\t\tusing F::operator();\n",
    "\t};\n",
    "\n",
    "\ttemplate <class... Fs>\n",
    "\toverload_set<typename std::decay<Fs>::type...> overload(Fs&&... fs)\n",
    "\t{\n",
    "\t\treturn {std::forward<Fs>(fs)...};\n",
    "\t}\n",
    "} // ~ namespace lut\n",
    "\n",
    "struct A\n",
    "{\n",
    "\tbool f1() { return true; }\n",
    "\tbool f2() { return false; }\n",
    "\tint serialize(int) { return 1; }\n",
    "};\n",
    "\n",
    "template <typename T>\n",
    "struct typi : T\n",
    "{\n",
    "};\n",
    "\n",
    "int main()\n",
    "{\n",
    "\tauto hs = lut::overload(\n",
    "\t    [](auto&& x) -> decltype(x.serialize(2), std::true_type{})\n",
    "\t    {\n",
    "\t\t    return {};\n",
    "\t\t},\n",
    "\t    [](...) -> std::false_type\n",
    "\t    {\n",
    "\t\t    return {};\n",
    "\t\t});\n",
    "\n",
    "\ttypi<decltype(hs(A{}))> a;\n",
    "\n",
    "\tstd::cout << a;\n",
    "}\n",
    "```"
   ]
  },
  {
   "cell_type": "markdown",
   "metadata": {
    "slideshow": {
     "slide_type": "subslide"
    }
   },
   "source": [
    "don't try this at home\n",
    "\n",
    "---\n",
    "\n",
    "```cpp\n",
    "template <int V>\n",
    "struct A\n",
    "{\n",
    "\tstatic constexpr bool value = !!V;\n",
    "};\n",
    "\n",
    "template <int V>\n",
    "struct B\n",
    "{ \n",
    "};\n",
    "\n",
    "// compile time short circuiting won't work !!\n",
    "template <class... Bs>\n",
    "constexpr bool any_true = (... || Bs::value); \n",
    "\n",
    "template <class... Ts>\n",
    "constexpr bool are_non_zero_vals = any_true<Ts...>;\n",
    "\n",
    "int main()\n",
    "{\n",
    "\tstd::cout << are_non_zero_vals<A<1>, B<2> > << std::endl;\n",
    "\n",
    "\treturn 0;\n",
    "}\n",
    "```"
   ]
  },
  {
   "cell_type": "markdown",
   "metadata": {
    "slideshow": {
     "slide_type": "subslide"
    }
   },
   "source": [
    "## 6.4 Flat expression templates\n"
   ]
  },
  {
   "cell_type": "markdown",
   "metadata": {
    "slideshow": {
     "slide_type": "subslide"
    }
   },
   "source": [
    "Lazy evaluation **problems** with expression templates :\n",
    "\n",
    "* the content is embedded in the form of the data structure\n",
    "* we need to be able to step through intermediate states easily \n",
    "* we have to express clearly the resulting types and the advancement of our computation"
   ]
  },
  {
   "cell_type": "markdown",
   "metadata": {
    "slideshow": {
     "slide_type": "subslide"
    }
   },
   "source": [
    "### It’s a common technique in GPU programming to “flat out” data structures in order to make them more “stream-able”, so this is not a “virgin birth” "
   ]
  },
  {
   "cell_type": "markdown",
   "metadata": {
    "slideshow": {
     "slide_type": "subslide"
    }
   },
   "source": [
    "To illustrate what this variation of expression templates does take for example a right fold expression, say:\n",
    "\n",
    "```haskell\n",
    "(a + (b + (c + d)))\n",
    "```"
   ]
  },
  {
   "cell_type": "markdown",
   "metadata": {
    "slideshow": {
     "slide_type": "subslide"
    }
   },
   "source": [
    "what we’ll do is convert this\n",
    "\n",
    "![expr_before](pics/expression_templates.png)"
   ]
  },
  {
   "cell_type": "markdown",
   "metadata": {
    "slideshow": {
     "slide_type": "subslide"
    }
   },
   "source": [
    "into this\n",
    "\n",
    "![expr_after](pics/flat_expression_templates.png)"
   ]
  },
  {
   "cell_type": "markdown",
   "metadata": {
    "slideshow": {
     "slide_type": "subslide"
    }
   },
   "source": [
    "We need a type to hold the expression in a reverse polish notation fashion and we choose to store the “nodes” in a tuple to be as “compile time friendly” as possible\n",
    "\n",
    "---\n",
    "\n",
    "```cpp\n",
    "template <class F, class... Ts>\n",
    "struct O_Om\n",
    "{\n",
    "\tstd::tuple<Ts...> nodes;\n",
    "\n",
    "\tgut::member_result_t<F, decltype(std::get<1>(nodes).clone()),\n",
    "\t                     decltype(std::get<0>(nodes).clone())> state;\n",
    "\ttemplate <class A, class... Us>\n",
    "\tconstexpr O_Om(A&& state, Us&&... args)\n",
    "\t\t: nodes{fw(args)...}, state{fw(state)}\n",
    "\t{\n",
    "\t}\n",
    "\n",
    "  \t/* nested iterator type here */\n",
    "  \n",
    "\titerator begin() { return iterator(state, 0, nodes); }\n",
    "\titerator end() { return iterator(state, sizeof...(Ts), nodes); }\n",
    "\n",
    "\tconstexpr decltype(auto) yield()\n",
    "\t{\n",
    "\t\tfor (std::size_t i(1); i < sizeof...(Ts); ++i)\n",
    "\t\t{\n",
    "\t\t\tstate = vtu::call_with_tuple_element_first(\n",
    "\t\t\t\tF{}, nodes, i, state);\n",
    "\t\t}\n",
    "\n",
    "\t\treturn state;\n",
    "\t}\n",
    "};\n",
    "```"
   ]
  },
  {
   "cell_type": "markdown",
   "metadata": {
    "slideshow": {
     "slide_type": "skip"
    }
   },
   "source": [
    " The type `O_Om` holds the expression (in its `m` hand) and has both its eyes open (we’ll be using it for left folds as well). To highlight some of the code we note that:\n",
    "\n",
    "* `state` is the accumulator and has the type of applying the callable on the expression. If no accumulator is explicitly provided the rightmost argument becomes it. As in Haskell the accumulator consumes the expression from the right to left for right folds etc (so write your callables accordingly).\n",
    "* A nested iterator type will keep track of the nodes that have been computed   \n",
    "* `yield` returns the result of the expression right away. It can be evaluated at compile time and it’s a good example of a **`constexpr` member function not being const** since it alters the state and wouldn’t be accepted by C++11 compilers that implicitly made constexpr member functions const. Luckily this is not the case in C++14 and beyond so we write code like this.\n",
    "* `vtu::call_with_tuple_element_...` is a mechanism to visit a tuple with a “runtime” index (quoted because inside `yield ` the i is evaluated at compile time)\n"
   ]
  },
  {
   "cell_type": "markdown",
   "metadata": {
    "slideshow": {
     "slide_type": "subslide"
    }
   },
   "source": [
    "## 6.5 Lazy folds"
   ]
  },
  {
   "cell_type": "markdown",
   "metadata": {
    "slideshow": {
     "slide_type": "subslide"
    }
   },
   "source": [
    "The last piece of the puzzle is the expression iterator, which will be a nested member of `O_Om`\n",
    "\n",
    "---\n",
    "\n",
    "```cpp\n",
    "class iterator\n",
    "{ // ... Publicly define the standard typedefs \n",
    "\treference _state;\n",
    "\tstd::size_t _pos;\n",
    "\tstd::tuple<Ts...>& _nodes;\n",
    "\n",
    "public:\n",
    "\t/*\n",
    "    ... construction\n",
    "    ... copy construction\n",
    "    ... copy assignment operator\n",
    "    */\n",
    "    \n",
    "    // I'll be using std::rel_ops so I get to be minimal on comparisons\n",
    "\tbool operator==(const iterator& other) const { return _pos == other._pos; }\n",
    "    bool operator<(const iterator& other) const { return _pos < other._pos; }\n",
    "    \n",
    "\titerator& operator++() {\n",
    "\t\t++_pos;\n",
    "\t\t_state = vtu::call_with_tuple_element_first(F{}, _nodes,\n",
    "\t\t\t\t\t\t\t    _pos, _state);\n",
    "\t\treturn *this;\n",
    "\t}\n",
    "\t\n",
    "    reference operator*() const { return _state; }\n",
    "\tpointer operator->() const { return &_state; }\n",
    "};\n",
    "```"
   ]
  },
  {
   "cell_type": "markdown",
   "metadata": {
    "slideshow": {
     "slide_type": "subslide"
    }
   },
   "source": [
    "Having this in place we can write code like this\n",
    "\n",
    "---\n",
    "\n",
    "```cpp\n",
    "int main()\n",
    "{\n",
    "    std::string acc;\n",
    "    auto k = fld::foldr<JoinAc>(\n",
    "        std::string(\" < in the bush >\"),\n",
    "        10, \n",
    "        std::string(\" < bird in the hand, is worth > \"), \n",
    "        1, \n",
    "        acc);\n",
    "\n",
    "    using namespace std::rel_ops; \n",
    "    for (auto&& state : k)\n",
    "    {\n",
    "        std::cout << \"computed value so far : \" << state << std::endl; \n",
    "    }\n",
    "    \n",
    "    constexpr auto mm = fld::foldr<Max>(11, 2, 5, 2, 4).yield(); \n",
    "    std::cout << \"\\nmax is \" << mm << std::endl;\n",
    "}\n",
    "```\n",
    "\n",
    "Outputs ['1', '1 < bird in the hand is worth > ', '1 < bird in the hand is worth > 10', '1 < bird in the hand is worth > 10 < in the bush >']"
   ]
  },
  {
   "cell_type": "markdown",
   "metadata": {
    "slideshow": {
     "slide_type": "subslide"
    }
   },
   "source": [
    "### The Haskell counterpart are the scanl and scanr functions, which report all the intermediate accumulator states in the form of a list"
   ]
  },
  {
   "cell_type": "code",
   "execution_count": 3,
   "metadata": {
    "collapsed": false,
    "slideshow": {
     "slide_type": "fragment"
    }
   },
   "outputs": [
    {
     "data": {
      "text/plain": [
       "['[0,3,8,10,11]', '[11,8,3,1,0]']"
      ]
     },
     "execution_count": 3,
     "metadata": {},
     "output_type": "execute_result"
    }
   ],
   "source": [
    "%%ghc\n",
    "\n",
    "main = do\n",
    "    print $ scanl (+) 0 [3,5,2,1]  \n",
    "    print $ scanr (+) 0 [3,5,2,1]  "
   ]
  },
  {
   "cell_type": "markdown",
   "metadata": {
    "slideshow": {
     "slide_type": "slide"
    }
   },
   "source": [
    "<a id='transducers_folds'></a>\n",
    "# 7. using transducers and arbitrary fold expressions\n",
    "\n",
    "[-](#contents)"
   ]
  },
  {
   "cell_type": "markdown",
   "metadata": {
    "slideshow": {
     "slide_type": "subslide"
    }
   },
   "source": [
    "## 7.1 The instantiation complexity problem\n",
    "       \n",
    "<small>_</small>"
   ]
  },
  {
   "cell_type": "markdown",
   "metadata": {
    "slideshow": {
     "slide_type": "subslide"
    }
   },
   "source": [
    "generating types to stress test the mechanism is easy\n",
    "\n",
    "---\n",
    "\n",
    "```cpp\n",
    "struct Max\n",
    "{\n",
    "\ttemplate <class T1, class T2>\n",
    "\tconstexpr auto operator()(T1 lhs, T2 rhs)\n",
    "\t{\n",
    "\t\t++use_count;\n",
    "\t\treturn lhs > rhs ? lhs : rhs;\n",
    "\t}\n",
    "};\n",
    "\n",
    "template <size_t... Is>\n",
    "void stress_test(std::index_sequence<Is...>&&)\n",
    "{\n",
    "\tstd::cout << \"max of sequence = \" << fld::foldr(Max{}, Is...).yield()\n",
    "\t          << std::endl;\n",
    "}\n",
    "\n",
    "int main()\n",
    "{\n",
    "    stress_test(std::make_index_sequence<17>{});\n",
    "}\n",
    "```"
   ]
  },
  {
   "cell_type": "markdown",
   "metadata": {
    "slideshow": {
     "slide_type": "subslide"
    }
   },
   "source": [
    "and now 218'350 characters of error message ... \n",
    "\n",
    "---\n",
    "\n",
    "```\n",
    "In file included from fold_examples.cpp:1:\n",
    "In file included from /usr/lib/gcc/x86_64-linux-gnu/5.3.0/../../../../include/c++/5.3.0/array:38:\n",
    "In file included from /usr/lib/gcc/x86_64-linux-gnu/5.3.0/../../../../include/c++/5.3.0/stdexcept:39:\n",
    "In file included from /usr/lib/gcc/x86_64-linux-gnu/5.3.0/../../../../include/c++/5.3.0/string:40:\n",
    "In file included from /usr/lib/gcc/x86_64-linux-gnu/5.3.0/../../../../include/c++/5.3.0/bits/char_traits.h:39:\n",
    "In file included from /usr/lib/gcc/x86_64-linux-gnu/5.3.0/../../../../include/c++/5.3.0/bits/stl_algobase.h:64:\n",
    "In file included from /usr/lib/gcc/x86_64-linux-gnu/5.3.0/../../../../include/c++/5.3.0/bits/stl_pair.h:59:\n",
    "In file included from /usr/lib/gcc/x86_64-linux-gnu/5.3.0/../../../../include/c++/5.3.0/bits/move.h:57:\n",
    "/usr/lib/gcc/x86_64-linux-gnu/5.3.0/../../../../include/c++/5.3.0/type_traits:545:14: fatal error: recursive template instantiation exceeded maximum depth of 256\n",
    "    : public __or_<is_lvalue_reference<_Tp>,\n",
    "             ^\n",
    "/usr/lib/gcc/x86_64-linux-gnu/5.3.0/../../../../include/c++/5.3.0/type_traits:115:26: note: in instantiation of template class 'std::is_reference<std::_Tuple_impl<16, fld::detail::O_x<unsigned long &&> > &>' requested here\n",
    "    : public conditional<_B1::value, _B1, _B2>::type\n",
    "                         ^\n",
    "/usr/lib/gcc/x86_64-linux-gnu/5.3.0/../../../../include/c++/5.3.0/type_traits:120:14: note: in instantiation of template class 'std::__or_<std::is_reference<std::_Tuple_impl<16, fld::detail::O_x<unsigned long &&> > &>, std::is_void<std::_Tuple_impl<16, fld::detail::O_x<unsigned long &&> > &> >' requested here\n",
    "    : public conditional<_B1::value, _B1, __or_<_B2, _B3, _Bn...>>::type\n",
    "             ^\n",
    "/usr/lib/gcc/x86_64-linux-gnu/5.3.0/../../../../include/c++/5.3.0/type_traits:148:39: note: in instantiation of template class 'std::__or_<std::is_function<std::_Tuple_impl<16, fld::detail::O_x<unsigned long &&> > &>, std::is_reference<std::_Tuple_impl<16, fld::detail::O_x<unsigned long &&> > &>, std::is_void<std::_Tuple_impl<16, fld::detail::O_x<unsigned long &&> > &> >' requested here\n",
    "    : public integral_constant<bool, !_Pp::value>\n",
    "                                      ^\n",
    "/usr/lib/gcc/x86_64-linux-gnu/5.3.0/../../../../include/c++/5.3.0/type_traits:565:14: note: in instantiation of template class 'std::__not_<std::__or_<std::is_function<std::_Tuple_impl<16, fld::detail::O_x<unsigned long &&> > &>, std::is_reference<std::_Tuple_impl<16, fld::detail::O_x<unsigned long &&> > &>, std::is_void<std::_Tuple_impl<16, fld::detail::O_x<unsigned long &&> > &> > >' requested here\n",
    "    : public __not_<__or_<is_function<_Tp>, is_reference<_Tp>,\n",
    "             ^\n",
    "/usr/lib/gcc/x86_64-linux-gnu/5.3.0/../../../../include/c++/5.3.0/type_traits:115:26: note: in instantiation of template class 'std::is_object<std::_Tuple_impl<16, fld::detail::O_x<unsigned long &&> > &>' requested here\n",
    "    : public conditional<_B1::value, _B1, _B2>::type\n",
    "                         ^\n",
    "/usr/lib/gcc/x86_64-linux-gnu/5.3.0/../../../../include/c++/5.3.0/type_traits:602:14: note: (skipping 247 contexts in backtrace; use -ftemplate-backtrace-limit=0 to see all)\n",
    "    : public __or_<is_object<_Tp>, is_reference<_Tp>>::type\n",
    "             ^\n",
    "./any_fold_lazy.h:350:11: note: in instantiation of function template specialization 'fld::detail::makeO_Om<fld::detail::O_x<unsigned long &&>, fld::detail::O_x<unsigned long &&>, fld::detail::O_x<unsigned long &&>, fld::detail::O_x<unsigned long &&>, fld::detail::O_x<unsigned long &&>, fld::detail::O_x<unsigned long &&>, fld::detail::O_x<unsigned long &&>, fld::detail::O_x<unsigned long &&>, fld::detail::O_x<unsigned long &&>, fld::detail::O_x<unsigned long &&>, fld::detail::O_x<unsigned long &&>, fld::detail::O_x<unsigned long &&>, fld::detail::O_x<unsigned long &&>, fld::detail::O_x<unsigned long &&>, fld::detail::O_x<unsigned long &&>, fld::detail::O_x<unsigned long &&> , fld::detail::O_x<unsigned long &&>, 0, 1, 2, 3, 4, 5, 6, 7, 8, 9, 10, 11, 12, 13, 14, 15>' requested here\n",
    "                        return makeO_Om(std::move(lhs), std::move(acc),\n",
    "                               ^\n",
    "./any_fold_lazy.h:357:23: note: in instantiation of function template specialization 'fld::detail::operator+<unsigned long &&, fld::detail::O_x<unsigned long &&>, fld::detail::O_x<unsigned long &&>, fld::detail::O_x<unsigned long &&>, fld::detail::O_x<unsigned long &&>, fld::detail::O_x<unsigned long &&>, fld::detail::O_x<unsigned long &&>, fld::detail::O_x<unsigned long &&>, fld::detail::O_x<unsigned long &&>, fld::detail::O_x<unsigned long &&>, fld::detail::O_x<unsigned long &&>, fld::detail::O_x<unsigned long &&>, fld::detail::O_x<unsigned long &&>, fld::detail::O_x<unsigned long &&>, fld::detail::O_x<unsigned long &&>, fld::detail::O_x<unsigned long &&>, fld::detail::O_x<unsigned long &&> >' requested here\n",
    "                        return (fw(args) + ...);\n",
    "                                           ^\n",
    "./any_fold_lazy.h:373:24: note: in instantiation of function template specialization 'fld::detail::_foldr<fld::detail::O_x<unsigned long &&>, fld::detail::O_x<unsigned long &&>, fld::detail::O_x<unsigned long &&>, fld::detail::O_x<unsigned long &&>, fld::detail::O_x<unsigned long &&>, fld::detail::O_x<unsigned long &&>, fld::detail::O_x<unsigned long &&>, fld::detail::O_x<unsigned long &&>, fld::detail::O_x<unsigned long &&>, fld::detail::O_x<unsigned long &&>, fld::detail::O_x<unsigned long &&>, fld::detail::O_x<unsigned long &&>, fld::detail::O_x<unsigned long &&>, fld::detail::O_x<unsigned long &&>, fld::detail::O_x<unsigned long &&>, fld::detail::O_x<unsigned long &&>, fld::detail::O_x<unsigned long &&> , 0>' requested here\n",
    "                    fw(fun), detail::_foldr(detail::makeO_x(fw(args))...));\n",
    "                                     ^\n",
    "fold_examples.cpp:138:44: note: in instantiation of function template specialization 'fld::foldr<Max, unsigned long, unsigned long, unsigned long, unsigned long, unsigned long, unsigned long, unsigned long, unsigned long, unsigned long, unsigned long, unsigned long, unsigned long, unsigned long, unsigned long, unsigned long, unsigned long, unsigned long, 0>' requested here\n",
    "        std::cout << \"max of sequence = \" << fld::foldr(Max{}, Is...).yield()\n",
    "                                                  ^\n",
    "fold_examples.cpp:165:2: note: in instantiation of function template specialization 'foo<0, 1, 2, 3, 4, 5, 6, 7, 8, 9, 10, 11, 12, 13, 14, 15, 16>' requested here\n",
    "        foo(std::make_index_sequence<17>{});\n",
    "        ^\n",
    "1 error generated.\n",
    "```"
   ]
  },
  {
   "cell_type": "markdown",
   "metadata": {
    "slideshow": {
     "slide_type": "subslide"
    }
   },
   "source": [
    "* The problem is not make_tuple, but the move constructor of tuple\n",
    "* The move constructor has a conditional noexcept that is implemented recursively. Therefore, for each template argument, a constant number of additional instantiations is required\n",
    "* The implementation e.g. of is_nothrow_move_constructible in terms of is_nothrow_constructible which is implemented in terms of __is_nt_constructible and so on, for 15 instantiation levels\n",
    "* This means that each template argument for tuple requires 15 additional instantiation levels for this check. On top of that, 9 levels are always required (constant depth)\n",
    "* Therefore, 17 arguments require an instantiation depth of 17*15+9 == 264."
   ]
  },
  {
   "cell_type": "markdown",
   "metadata": {
    "slideshow": {
     "slide_type": "subslide"
    }
   },
   "source": [
    "so this should fail as well (note I'm using clang 3.7)\n",
    "\n",
    "---\n",
    "\n",
    "```cpp\n",
    "#include <iostream>\n",
    "#include <type_traits>\n",
    "#include <tuple>\n",
    "\n",
    "template <typename... Arguments>\n",
    "struct Testing\n",
    "{\n",
    "    std::tuple<Arguments...> t;\n",
    "    Testing(Arguments... args) : t{args...} {}\n",
    "};\n",
    "\n",
    "template <typename... Arguments>\n",
    "Testing<Arguments...> create(Arguments... args)\n",
    "{\n",
    "    return Testing<Arguments...>(args...);\n",
    "}\n",
    "\n",
    "template <std::size_t... Is>\n",
    "void test(std::integer_sequence<size_t, Is...>&&)\n",
    "{\n",
    "    auto t = create(std::integral_constant<int, Is>{}...);\n",
    "}\n",
    "\n",
    "int main()\n",
    "{\n",
    "    test(std::make_integer_sequence<size_t, 17>{});\n",
    "}\n",
    "```"
   ]
  },
  {
   "cell_type": "markdown",
   "metadata": {
    "slideshow": {
     "slide_type": "subslide"
    }
   },
   "source": [
    "### Solution 1 : Increase instantiation depth\n",
    "\n",
    "* this will take its toll sooner or later\n",
    "* the default instantiation depth for clang (256) is way low for C++11 (1024 is recommended)\n",
    "* Visual C++ compiler has a default (non tweakable) instantiation depth value of 2048"
   ]
  },
  {
   "cell_type": "markdown",
   "metadata": {
    "slideshow": {
     "slide_type": "subslide"
    }
   },
   "source": [
    "### Solution 2 : flatten instantiations\n",
    "\n",
    "---\n",
    "\n",
    "```cpp\n",
    "// predicate logic\n",
    "template <bool... Ei>\n",
    "constexpr bool any_true = (... || Ei); \n",
    "\n",
    "template <bool... Ei>\n",
    "constexpr bool all_true = (... && Ei); \n",
    "\n",
    "template <bool... Ei>\n",
    "constexpr bool all_false = !any_true<Ei...>;\n",
    "\n",
    "template <bool... Ei>\n",
    "constexpr bool any_false = !all_true<Ei...>;\n",
    "\n",
    "// variadic type traits\n",
    "template <class... Ts>\n",
    "constexpr bool are_move_no_throw = std::integral_constant<\n",
    "    bool, all_true<std::is_nothrow_move_constructible<Ts>::value...>>::value;\n",
    "\n",
    "// how a \"tuple\" could avoid diving too deep into instantiations\n",
    "template <class... Ts>\n",
    "struct Tuple\n",
    "{\n",
    "\tstd::tuple<Ts...> data;\n",
    "\n",
    "\tconstexpr Tuple() = default;\n",
    "\n",
    "\ttemplate <class... Args>\n",
    "\tconstexpr Tuple(Args&&... args)\n",
    "\t    : data{args...}\n",
    "\t{\n",
    "\t}\n",
    "\n",
    "\tconstexpr Tuple(Tuple const&) = default;\n",
    "\n",
    "\tconstexpr Tuple(Tuple&& other) noexcept(are_move_no_throw<Ts...>)\n",
    "    //                             ^^^^^^^^^^^^^^^^^^^^^^^^^^^^^^^^^^\n",
    "\t    : Tuple(std::move(other), std::index_sequence_for<Ts...>{})\n",
    "\t{\n",
    "\t}\n",
    "\n",
    "private:\n",
    "\ttemplate <std::size_t... I>\n",
    "\tconstexpr Tuple(Tuple&& other, std::index_sequence<I...>&&)\n",
    "\t    : data{std::get<I>(std::move(other).data)...}\n",
    "\t{\n",
    "\t}\n",
    "};\n",
    "\n",
    "// just to provide an interface usable for testing\n",
    "template <std::size_t I, class T>\n",
    "constexpr decltype(auto) Get(T&& tuple)\n",
    "{\n",
    "\treturn std::get<I>(std::forward<T>(tuple).data);\n",
    "}\n",
    "```"
   ]
  },
  {
   "cell_type": "markdown",
   "metadata": {
    "slideshow": {
     "slide_type": "subslide"
    }
   },
   "source": [
    "### this implementation stops at \n",
    "\n",
    "```cpp\n",
    "test(std::make_integer_sequence<size_t, 238>{});\n",
    "```\n",
    "\n",
    "### due to type traits instantiations for a tuple of 238 `integral_constant`s"
   ]
  },
  {
   "cell_type": "markdown",
   "metadata": {
    "slideshow": {
     "slide_type": "subslide"
    }
   },
   "source": [
    "---\n",
    "\n",
    "### quite the improvement considering we only changed the logic in one type trait and maintained the instantiation depth "
   ]
  },
  {
   "cell_type": "markdown",
   "metadata": {
    "slideshow": {
     "slide_type": "subslide"
    }
   },
   "source": [
    "## 7.2 The reducer as an argument (no more sugar) - reduction as a type\n",
    "\n",
    "\n"
   ]
  },
  {
   "cell_type": "markdown",
   "metadata": {
    "slideshow": {
     "slide_type": "subslide"
    }
   },
   "source": [
    "a reducer should be aware of the type of fold it'll be used for \n",
    "\n",
    "---\n",
    "\n",
    "```cpp\n",
    "auto map = [](auto fn)\n",
    "{\n",
    "\treturn [=](auto step)\n",
    "\t{\n",
    "\t\treturn [=](auto in, auto&& s)\n",
    "\t\t{ //       ^^^^^^^^^^^^^^^^^\n",
    "\t\t\treturn step(fn(in), s);\n",
    "\t\t};\n",
    "\t};\n",
    "};\n",
    "```"
   ]
  },
  {
   "cell_type": "markdown",
   "metadata": {
    "slideshow": {
     "slide_type": "subslide"
    }
   },
   "source": [
    "\n",
    "---\n",
    "\n",
    "```cpp\n",
    "auto filter = [](auto pred)\n",
    "{\n",
    "\treturn [=](auto step)\n",
    "\t{\n",
    "\t\treturn [=](auto in, auto s)\n",
    "\t\t{ //       ^^^^^^^^^^^^^^^\n",
    "\t\t\treturn pred(in) ? step(in, s) : s;\n",
    "\t\t};\n",
    "\t};\n",
    "};\n",
    "```"
   ]
  },
  {
   "cell_type": "markdown",
   "metadata": {
    "slideshow": {
     "slide_type": "subslide"
    }
   },
   "source": [
    "* The output function is not affected\n",
    "* Define an example (unary) predicate and mutator \n",
    "\n",
    "---\n",
    "\n",
    "```cpp\n",
    "auto output_rf = [](auto input, auto out)\n",
    "{\n",
    "\t*out++ = input;\n",
    "\treturn out;\n",
    "};\n",
    "\n",
    "auto pred = [](int k)\n",
    "{\n",
    "\treturn k % 2;\n",
    "};\n",
    "\n",
    "auto fn = [](int k)\n",
    "{\n",
    "\treturn 10 * k;\n",
    "};\n",
    "```"
   ]
  },
  {
   "cell_type": "markdown",
   "metadata": {
    "slideshow": {
     "slide_type": "subslide"
    }
   },
   "source": [
    "Putting it all together, or `transform_if` revisited\n",
    "\n",
    "---\n",
    "\n",
    "```cpp\n",
    "int main()\t\n",
    "{\n",
    "\tstd::vector<int> vp;\n",
    "\n",
    "    // remember the pipeline goes left to right\n",
    "\tfld::foldr(filter(pred)(map(fn)(output_rf)), 1, 2, 3, 4, 5,\n",
    "\t           std::back_inserter(vp))\n",
    "\t    .yield();\n",
    "\n",
    "\tusing namespace std::rel_ops;\n",
    "\tfor (auto&& elem : vp)\n",
    "\t\tstd::cout << elem << std::endl;\n",
    "}\n",
    "```"
   ]
  },
  {
   "cell_type": "markdown",
   "metadata": {
    "slideshow": {
     "slide_type": "subslide"
    }
   },
   "source": [
    "mapcating over different types\n",
    "\n",
    "---\n",
    "\n",
    "```cpp\n",
    "int main()\t\n",
    "{\n",
    "    std::list<int>     l1{  10,  20,  30}; \n",
    "\tstd::vector<int>   v1{   1,   2,   3}; \n",
    "    std::array<int, 3> a1{{100, 200, 300}}; \n",
    "       \n",
    "\tauto output_vf = [](auto input, auto out) \n",
    "    {\n",
    "\t\tfor (auto&& elem : input) *out++ = elem;\n",
    "\t\treturn out;\n",
    "\t};\n",
    "\n",
    "\tfld::foldr(output_vf, a1, l1, v1, std::back_inserter(vp)).yield();\n",
    "\n",
    "\tusing namespace std::rel_ops;\n",
    "    for (auto&& elem : vp)\n",
    "\t\tstd::cout << elem << std::endl;\n",
    "}\n",
    "```\n",
    "\n",
    "---\n",
    "\n",
    "Output ['1, 2, 3, 10, 20, 30, 100, 200, 300']"
   ]
  },
  {
   "cell_type": "markdown",
   "metadata": {
    "slideshow": {
     "slide_type": "subslide"
    }
   },
   "source": [
    "## 7.3 Corner cases\n",
    "\n"
   ]
  },
  {
   "cell_type": "markdown",
   "metadata": {
    "slideshow": {
     "slide_type": "subslide"
    }
   },
   "source": [
    "### folds of >1 arguments : the rightmost (or leftmost) argument becomes the accumulator"
   ]
  },
  {
   "cell_type": "markdown",
   "metadata": {
    "slideshow": {
     "slide_type": "subslide"
    }
   },
   "source": [
    "### folds of 1 argument : the argument is the accumulator and returned as is"
   ]
  },
  {
   "cell_type": "markdown",
   "metadata": {
    "slideshow": {
     "slide_type": "subslide"
    }
   },
   "source": [
    "### folds without arguments ... "
   ]
  },
  {
   "cell_type": "markdown",
   "metadata": {
    "slideshow": {
     "slide_type": "fragment"
    }
   },
   "source": [
    "* we cannot predict identity elements for every possible { type , operator } pair\n",
    "* we should be able to pick an algebra and use it"
   ]
  },
  {
   "cell_type": "markdown",
   "metadata": {
    "slideshow": {
     "slide_type": "subslide"
    }
   },
   "source": [
    "define your reducers like this \n",
    "\n",
    "--- \n",
    "\n",
    "```cpp\n",
    "struct Max\n",
    "{\n",
    "\ttemplate <class T1, class T2>\n",
    "\tconstexpr auto operator()(T1 lhs, T2 rhs)\n",
    "\t{\n",
    "\t\treturn lhs > rhs ? lhs : rhs;\n",
    "\t}\n",
    "\n",
    "\tconstexpr auto operator()()\n",
    "\t{ // ^^ this defines an identity element\n",
    "\t\treturn std::numeric_limits<int>::min(); \n",
    "\t}\n",
    "};\n",
    "```"
   ]
  },
  {
   "cell_type": "markdown",
   "metadata": {
    "slideshow": {
     "slide_type": "skip"
    }
   },
   "source": [
    "<a id='heterogeneous'></a>\n",
    "# 8. reduce in a parallel & heterogeneous context\n",
    "\n",
    "[-](#contents)"
   ]
  },
  {
   "cell_type": "markdown",
   "metadata": {
    "slideshow": {
     "slide_type": "slide"
    }
   },
   "source": [
    "### Recap \n",
    "\n",
    "* Reduce is universal \n",
    "* Transducers are awesome\n",
    "* Composition is aesthetically pleasing\n",
    "* C++1z will have folds!\n",
    "* boost.reduce gives you folds for any callable\n",
    "* lazy evaluation is a complex matter\n"
   ]
  },
  {
   "cell_type": "markdown",
   "metadata": {
    "slideshow": {
     "slide_type": "slide"
    }
   },
   "source": [
    "### References\n",
    "\n",
    "---\n",
    "\n",
    "* https://wiki.haskell.org/Lazy_evaluation\n",
    "* https://hackhands.com/lazy-evaluation-works-haskell/\n",
    "* http://www.vex.net/~trebla/haskell/lazy.xhtml\n",
    "* https://en.wikibooks.org/wiki/Haskell/Graph_reduction\n",
    "* http://learnyouahaskell.com/\n",
    "* https://ngathanasiou.wordpress.com/2016/03/22/lazily-evaluated-folds-in-c/\n",
    "* http://intermediatepythonista.com/python-generators\n",
    "* https://ngathanasiou.wordpress.com/2015/12/15/182/\n",
    "* https://www.youtube.com/watch?v=CvLQJReDhic\n",
    "* http://codebetter.com/matthewpodwysocki/2009/02/14/fun-with-folds/\n",
    "* http://blog.cognitect.com/blog/2014/8/6/transducers-are-coming\n",
    "* http://conscientiousprogrammer.com/blog/2014/08/07/understanding-cloure-transducers-through-types/\n",
    "* https://github.com/FranklinChen/clojure-transducers-in-haskell/blob/master/Transducers.hs\n",
    "* http://blog.podsnap.com/ducers2.html\n",
    "* http://sixty-north.com/blog/deriving-transducers-from-first-principles\n",
    "* https://chriskohlhepp.wordpress.com/lambda-over-lambda-in-cplusplus14/\n",
    "* http://stackoverflow.com/questions/228783/what-are-the-rules-about-using-an-underscore-in-a-c-identifier/228797#228797"
   ]
  },
  {
   "cell_type": "markdown",
   "metadata": {
    "slideshow": {
     "slide_type": "slide"
    }
   },
   "source": [
    "\n",
    "![thats_all](pics/thats_all.gif)\n"
   ]
  }
 ],
 "metadata": {
  "anaconda-cloud": {},
  "celltoolbar": "Slideshow",
  "kernelspec": {
   "display_name": "Python [default]",
   "language": "python",
   "name": "python3"
  },
  "language_info": {
   "codemirror_mode": {
    "name": "ipython",
    "version": 3
   },
   "file_extension": ".py",
   "mimetype": "text/x-python",
   "name": "python",
   "nbconvert_exporter": "python",
   "pygments_lexer": "ipython3",
   "version": "3.5.2"
  }
 },
 "nbformat": 4,
 "nbformat_minor": 0
}
